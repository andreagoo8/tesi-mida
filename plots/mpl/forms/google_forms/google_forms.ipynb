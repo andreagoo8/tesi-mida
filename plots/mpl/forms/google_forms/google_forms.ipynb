{
 "cells": [
  {
   "cell_type": "code",
   "execution_count": 1,
   "metadata": {},
   "outputs": [],
   "source": [
    "import os\n",
    "\n",
    "import matplotlib.pyplot as plt\n",
    "import pandas as pd\n",
    "import numpy as np\n",
    "import seaborn as sns\n",
    "\n",
    "sns.set_style(\"darkgrid\")"
   ]
  },
  {
   "cell_type": "markdown",
   "metadata": {},
   "source": [
    "# Fixed values and functions for all plots"
   ]
  },
  {
   "cell_type": "code",
   "execution_count": 2,
   "metadata": {},
   "outputs": [],
   "source": [
    "# # Loads algae names\n",
    "# with open('../../fixed_values-pickles/pickle_files/algae_names.pkl', 'rb') as fp:\n",
    "# \talgae_names = pickle.load(fp)\n",
    "\n",
    "# # Loads content types (ashes, moisture, ...)\n",
    "# with open('../../fixed_values-pickles/pickle_files/content_types.pkl', 'rb') as fp:\n",
    "# \tcontent_types = pickle.load(fp)\n",
    "\n",
    "# control_color = '#FFFFFF' # white\n",
    "# xlabel = 'Burger type'\n",
    "# ylabel = 'Percentage of '\n",
    "\n",
    "# def get_contenttype(in_ct):\n",
    "# \tcontent_type = content_types[in_ct]\n",
    "# \treturn content_type\n",
    "\n",
    "# def set_filename(alga, ct):\n",
    "# \tfilename = alga + '_' + ct\n",
    "# \treturn filename"
   ]
  },
  {
   "cell_type": "code",
   "execution_count": 3,
   "metadata": {},
   "outputs": [],
   "source": [
    "def csv_to_dic(csv_file):\n",
    "\t'''Funzione che inserisce i dati dei csv delle buy responses in un dizionario \n",
    "\t\t{burger_type: { buy_response : occurrences }, ... }\n",
    "\tformattando il tutto'''\n",
    "\n",
    "\t# Given a series/column, makes a dic {answer : counts}\n",
    "\tdef occurrences_dic(column):\n",
    "\t\treturn column.value_counts().to_dict()\n",
    "\n",
    "\t# Load the CSV file into a DataFrame\n",
    "\tdf = pd.read_csv(csv_file)\n",
    "\n",
    "\t# Counts the columns\n",
    "\tn_columns = len(df.columns)\n",
    "\n",
    "\t# Initialize the dictionary\n",
    "\tdic = {}\n",
    "\n",
    "\t# Iterates for every column of the csv\n",
    "\tfor column in range(n_columns):\n",
    "\n",
    "\t\t# Selects only the current column\n",
    "\t\tsel_column = df.iloc[:, column]\n",
    "\t\t\n",
    "\t\t# If the csv is a \"buy type\" (the ones with more than one column)\n",
    "\t\tif n_columns != 1:\n",
    "\n",
    "\t\t\t# Get and format the header\n",
    "\t\t\theader = sel_column.name\n",
    "\t\t\theader = header[-3:-1] # Write [-2:-1] for only the letter\n",
    "\n",
    "\t\t\t# Makes dic {answer : counts}\n",
    "\t\t\toccurrences = occurrences_dic(sel_column)\n",
    "\t\t\tdic[header] = occurrences\n",
    "\t\t\n",
    "\t\t# If the csv is a \"prefer type\" (the ones with only one column)\n",
    "\t\telse:\n",
    "\t\t\tdic = occurrences_dic(sel_column)\n",
    "\n",
    "\treturn dic"
   ]
  },
  {
   "cell_type": "code",
   "execution_count": 4,
   "metadata": {},
   "outputs": [],
   "source": [
    "def pieplot(data, filename, colors):\n",
    "\t'''Crea un pieplot per ...'''\n",
    "\n",
    "\t# Definizione dati\n",
    "\tlabels = data.keys()\n",
    "\tvalues = data.values()\n",
    "\n",
    "\t# Calcola la percentuale\n",
    "\tdef make_autopct(values):\n",
    "\t\tdef my_autopct(pct):\n",
    "\t\t\ttotal = sum(values)\n",
    "\t\t\tval = int(round(pct*total/100.0))\n",
    "\t\t\treturn '{p:.1f}%  ({v:d})'.format(p=pct,v=val)\n",
    "\t\treturn my_autopct\n",
    "\n",
    "\n",
    "\t# Colori\n",
    "\tif filename != 'diet':\n",
    "\t\tfor alga in colors:\n",
    "\t\t\tcurrent_colors = list(colors[alga].values())\n",
    "\telse:\n",
    "\t\tcurrent_colors = colors\n",
    "\t\t\t\n",
    "\t# Crea il pieplot\n",
    "\tplt.pie(values, labels = labels, colors=current_colors, autopct=make_autopct(values))\n",
    "\tplt.savefig('google_forms-outs/' + filename + '.pdf', format=\"pdf\", bbox_inches='tight')\n",
    "\tplt.close()"
   ]
  },
  {
   "cell_type": "markdown",
   "metadata": {},
   "source": [
    "# Diets (personal info)"
   ]
  },
  {
   "cell_type": "code",
   "execution_count": 5,
   "metadata": {},
   "outputs": [],
   "source": [
    "diet_color_1 = '#FFF9C4' # \n",
    "diet_color_2 = '#DDEB9E' # \n",
    "diet_colors = [diet_color_1, diet_color_2]"
   ]
  },
  {
   "cell_type": "markdown",
   "metadata": {},
   "source": [
    "# Burger samples (sensory analysis)"
   ]
  },
  {
   "cell_type": "markdown",
   "metadata": {},
   "source": [
    "## Fixed values and functions for burger samples (sensory analysis)"
   ]
  },
  {
   "cell_type": "code",
   "execution_count": 7,
   "metadata": {},
   "outputs": [
    {
     "data": {
      "text/plain": [
       "{'1': {'color_1': '#F7CBDA', 'color_2': '#F7CBDA', 'color_3': '#F7CBDA'},\n",
       " '2': {'color_1': '#F7CBDA', 'color_2': '#F7CBDA', 'color_3': '#F7CBDA'},\n",
       " '3': {'color_1': '#F7CBDA', 'color_2': '#F7CBDA'}}"
      ]
     },
     "execution_count": 7,
     "metadata": {},
     "output_type": "execute_result"
    }
   ],
   "source": [
    "preferences_colors = {\n",
    "\t'1' : { # Spirulina\n",
    "\t\t\t'color_1' : '#F7CBDA',\n",
    "\t\t\t'color_2' : '#F7CBDA',\n",
    "\t\t\t'color_3' : '#F7CBDA'\n",
    "\t\t\t},\n",
    "\t'2' : { # Chlorella\n",
    "\t\t\t'color_1' : '#F7CBDA',\n",
    "\t\t\t'color_2' : '#F7CBDA',\n",
    "\t\t\t'color_3' : '#F7CBDA'\n",
    "\t\t\t},\n",
    "\t'3' : { # Palmaria\n",
    "\t\t\t'color_1' : '#F7CBDA',\n",
    "\t\t\t'color_2' : '#F7CBDA'\n",
    "\t\t\t},\n",
    "}"
   ]
  },
  {
   "cell_type": "code",
   "execution_count": 8,
   "metadata": {},
   "outputs": [],
   "source": [
    "buy_color_1 = '#FFF9C4' # \n",
    "buy_color_2 = '#DDEB9E' # \n",
    "buy_color_3 = '#BBDD77' # \n",
    "buy_color_4 = '#004225' # \n",
    "buy_color_5 = '#800020' #\n",
    "buy_colors = [\n",
    "\tbuy_color_1, buy_color_2, buy_color_3, \\\n",
    "\t# buy_color_4, buy_color_5\n",
    "] "
   ]
  },
  {
   "cell_type": "code",
   "execution_count": 9,
   "metadata": {},
   "outputs": [],
   "source": [
    "buy_categories = {\n",
    "\t'cat_1': ['Certainly would not buy', 'Probably would not buy'],\n",
    "\t'cat_2': ['Maybe would buy'],\n",
    "\t'cat_3': ['Probably would buy', 'Certainly would buy']\n",
    "}"
   ]
  },
  {
   "cell_type": "code",
   "execution_count": 10,
   "metadata": {},
   "outputs": [],
   "source": [
    "def gather_buy_responses(dic, buy_categories):\n",
    "\t'''\n",
    "\tFunzione che a partire da un dizionario\n",
    "\t\t{ buy_response : occurrences, ... }\n",
    "\te un dizionario\n",
    "\t\t{ nome_categoria : [buy_response_1, ...] }\n",
    "\trestituisce un dizionario con:\n",
    "\t\tchiavi -> le buy_responses raggruppate per categoria\n",
    "\t\tvalori -> i conteggi di quella categoria di buy_responses\n",
    "\t'''\n",
    "\tsr = pd.Series(dic)\n",
    "\n",
    "\tgathered_categories = {}\n",
    "\n",
    "\t# Iterate for every category\n",
    "\tfor category in buy_categories:\n",
    "\n",
    "\t\t# Compute occurrences of every category\n",
    "\t\tsum = sr.loc[buy_categories[category]].sum()\n",
    "\t\tgathered_categories[category] = sum\n",
    "\n",
    "\treturn gathered_categories"
   ]
  },
  {
   "cell_type": "code",
   "execution_count": 11,
   "metadata": {},
   "outputs": [],
   "source": [
    "def barplot(data, filename, buy_categories, colors):\n",
    "\n",
    "\tfor burger_type in data:\n",
    "\t\t# burger_type is like 1A, 1B, 2A, 2B, etc...\n",
    "\t\t\n",
    "\t\t# Gathers responses into positive, negative, etc...\n",
    "\t\tdata_gathered = gather_buy_responses(data[burger_type], buy_categories)\n",
    "\n",
    "\t\tx = data_gathered.keys()\n",
    "\t\ty = data_gathered.values()\n",
    "\n",
    "\t\tbarplot = sns.barplot(x=x, y=y, errorbar=None)\n",
    "\n",
    "\t\tfor bar, color in zip(barplot.patches, colors):\n",
    "\t\t\tbar.set_color(color)\n",
    "\t\t\tbar.set_edgecolor('#000000')\n",
    "\t\t\tbar.set_linewidth(1)\n",
    "\n",
    "\t\tplt.ylabel('Number of reponses')\n",
    "\n",
    "\t\tplt.savefig('google_forms-outs/' + filename + '.pdf', format=\"pdf\", bbox_inches='tight')\n",
    "\t\tplt.close()"
   ]
  },
  {
   "cell_type": "markdown",
   "metadata": {},
   "source": [
    "# Let's make the plots"
   ]
  },
  {
   "cell_type": "code",
   "execution_count": 15,
   "metadata": {},
   "outputs": [],
   "source": [
    "data_path = 'data-google_forms/structured/'\n",
    "\n",
    "for csv in os.listdir(data_path):\n",
    "\t\n",
    "\tdic = csv_to_dic(data_path + csv)\n",
    "\t\n",
    "\tif csv == 'diet.csv':\n",
    "\t\tpieplot(dic, csv[:-4], diet_colors)\n",
    "\t\n",
    "\telif csv.endswith('-prefer.csv'):\n",
    "\t\tpieplot(dic, csv[:-4], preferences_colors)\n",
    "\t\n",
    "\telif csv.endswith('-buy.csv'):\n",
    "\t\tbarplot(dic, csv[:-4], buy_categories, buy_colors)"
   ]
  }
 ],
 "metadata": {
  "language_info": {
   "name": "python"
  }
 },
 "nbformat": 4,
 "nbformat_minor": 2
}

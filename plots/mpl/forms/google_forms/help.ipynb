{
 "cells": [
  {
   "cell_type": "markdown",
   "metadata": {},
   "source": [
    "# Google forms"
   ]
  },
  {
   "cell_type": "markdown",
   "metadata": {},
   "source": [
    "## Import libraries"
   ]
  },
  {
   "cell_type": "code",
   "execution_count": 1,
   "metadata": {},
   "outputs": [],
   "source": [
    "import os\n",
    "\n",
    "import matplotlib.pyplot as plt\n",
    "import pandas as pd\n",
    "import numpy as np\n",
    "import seaborn as sns\n",
    "\n",
    "sns.set_style(\"darkgrid\")"
   ]
  },
  {
   "cell_type": "code",
   "execution_count": 2,
   "metadata": {},
   "outputs": [],
   "source": [
    "# Font setting\n",
    "\n",
    "import matplotlib.font_manager as font_manager\n",
    "\n",
    "font_path = '../../Minion3/Minion3-Regular.ttf'  # Your font path goes here\n",
    "font_manager.fontManager.addfont(font_path)\n",
    "prop = font_manager.FontProperties(fname=font_path)\n",
    "\n",
    "plt.rcParams['font.family'] = 'serif'\n",
    "plt.rcParams['font.serif'] = prop.get_name()"
   ]
  },
  {
   "cell_type": "markdown",
   "metadata": {},
   "source": [
    "# TODO Constant values for all plots"
   ]
  },
  {
   "cell_type": "code",
   "execution_count": 3,
   "metadata": {},
   "outputs": [],
   "source": [
    "# # Loads algae names\n",
    "# with open('../../fixed_values-pickles/pickle_files/algae_names.pkl', 'rb') as fp:\n",
    "# \talgae_names = pickle.load(fp)\n",
    "\n",
    "# # Loads content types (ashes, moisture, ...)\n",
    "# with open('../../fixed_values-pickles/pickle_files/content_types.pkl', 'rb') as fp:\n",
    "# \tcontent_types = pickle.load(fp)\n",
    "\n",
    "# control_color = '#FFFFFF' # white\n",
    "# xlabel = 'Burger type'\n",
    "# ylabel = 'Percentage of '\n",
    "\n",
    "# def get_contenttype(in_ct):\n",
    "# \tcontent_type = content_types[in_ct]\n",
    "# \treturn content_type\n",
    "\n",
    "# def set_filename(alga, ct):\n",
    "# \tfilename = alga + '_' + ct\n",
    "# \treturn filename"
   ]
  },
  {
   "cell_type": "markdown",
   "metadata": {},
   "source": [
    "## Define functions"
   ]
  },
  {
   "cell_type": "code",
   "execution_count": 4,
   "metadata": {},
   "outputs": [],
   "source": [
    "def csv_to_dic(csv_file):\n",
    "\t'''Funzione che inserisce i dati dei csv delle buy responses in un dizionario \n",
    "\t\t{burger_type: { buy_response : occurrences }, ... }\n",
    "\tformattando il tutto'''\n",
    "\n",
    "\t# Given a series/column, makes a dic {answer : counts}\n",
    "\tdef occurrences_dic(column):\n",
    "\t\treturn column.value_counts().to_dict()\n",
    "\n",
    "\t# Load the CSV file into a DataFrame\n",
    "\tdf = pd.read_csv(csv_file)\n",
    "\n",
    "\t# Counts the columns\n",
    "\tn_columns = len(df.columns)\n",
    "\n",
    "\t# Initialize the dictionary\n",
    "\tdic = {}\n",
    "\n",
    "\t# Iterates for every column of the csv\n",
    "\tfor column in range(n_columns):\n",
    "\n",
    "\t\t# Selects only the current column\n",
    "\t\tsel_column = df.iloc[:, column]\n",
    "\t\t\n",
    "\t\t# If the csv is a \"buy type\" (the ones with more than one column)\n",
    "\t\tif n_columns != 1:\n",
    "\n",
    "\t\t\t# Get and format the header\n",
    "\t\t\theader = sel_column.name\n",
    "\t\t\theader = header[-3:-1] # Write [-2:-1] for only the letter\n",
    "\n",
    "\t\t\t# Makes dic {answer : counts}\n",
    "\t\t\toccurrences = occurrences_dic(sel_column)\n",
    "\t\t\tdic[header] = occurrences\n",
    "\t\t\n",
    "\t\t# If the csv is a \"prefer type\" (the ones with only one column)\n",
    "\t\telse:\n",
    "\t\t\tdic = occurrences_dic(sel_column)\n",
    "\n",
    "\treturn dic"
   ]
  },
  {
   "cell_type": "markdown",
   "metadata": {},
   "source": [
    "# Diets (personal info)"
   ]
  },
  {
   "cell_type": "code",
   "execution_count": 5,
   "metadata": {},
   "outputs": [],
   "source": [
    "diet_color_1 = '#A8E6CF' # \n",
    "diet_color_2 = '#D4F0CA' # \n",
    "diet_colors = [diet_color_1, diet_color_2]"
   ]
  },
  {
   "cell_type": "markdown",
   "metadata": {},
   "source": [
    "# Burger samples (sensory analysis)"
   ]
  },
  {
   "cell_type": "markdown",
   "metadata": {},
   "source": [
    "## Constant values and functions for burger samples (sensory analysis)"
   ]
  },
  {
   "cell_type": "code",
   "execution_count": 6,
   "metadata": {},
   "outputs": [],
   "source": [
    "preferences_colors = {\n",
    "\t'2' : { # Spirulina\n",
    "\t\t\t'color_1' : '#C5E1A5',\n",
    "\t\t\t'color_2' : '#7FB871',\n",
    "\t\t\t'color_3' : '#388E3C'\n",
    "\t\t\t},\n",
    "\t'3' : { # Chlorella\n",
    "\t\t\t'color_1' : '#FFF9C4',\n",
    "\t\t\t'color_2' : '#FDDD79',\n",
    "\t\t\t'color_3' : '#FBC02D'\n",
    "\t\t\t},\n",
    "\t'1' : { # Palmaria\n",
    "\t\t\t'color_1' : '#F7CBDA',\n",
    "\t\t\t'color_2' : '#F7AFC8'\n",
    "\t\t\t},\n",
    "}"
   ]
  },
  {
   "cell_type": "code",
   "execution_count": 7,
   "metadata": {},
   "outputs": [],
   "source": [
    "buy_color_1 = '#FFF9C4' # \n",
    "buy_color_2 = '#D4F0CA' # \n",
    "buy_color_3 = '#A8E6CF' # \n",
    "buy_color_4 = '#004225' # \n",
    "buy_color_5 = '#800020' #\n",
    "buy_colors = [\n",
    "\tbuy_color_1, buy_color_2, buy_color_3, \\\n",
    "\t# buy_color_4, buy_color_5\n",
    "] "
   ]
  },
  {
   "cell_type": "code",
   "execution_count": 8,
   "metadata": {},
   "outputs": [],
   "source": [
    "buy_categories = {\n",
    "\t'Not buy': ['Certainly would not buy', 'Probably would not buy'],\n",
    "\t'Maybe buy': ['Maybe would buy'],\n",
    "\t'Buy': ['Probably would buy', 'Certainly would buy']\n",
    "}"
   ]
  },
  {
   "cell_type": "markdown",
   "metadata": {},
   "source": [
    "## Declare functions"
   ]
  },
  {
   "cell_type": "code",
   "execution_count": 9,
   "metadata": {},
   "outputs": [],
   "source": [
    "def gather_buy_responses(dic, buy_categories):\n",
    "\t'''\n",
    "\tFunzione che a partire da un dizionario\n",
    "\t\t{ buy_response : occurrences, ... }\n",
    "\te un dizionario\n",
    "\t\t{ nome_categoria : [buy_response_1, ...] }\n",
    "\trestituisce un dizionario con:\n",
    "\t\tchiavi -> le buy_responses raggruppate per categoria\n",
    "\t\tvalori -> i conteggi di quella categoria di buy_responses\n",
    "\t'''\n",
    "\tsr = pd.Series(dic)\n",
    "\n",
    "\tgathered_categories = {}\n",
    "\n",
    "\t# Iterate for every category\n",
    "\tfor category in buy_categories:\n",
    "\n",
    "\t\t# Compute occurrences of every category\n",
    "\t\tsum = sr.loc[buy_categories[category]].sum()\n",
    "\t\tgathered_categories[category] = sum\n",
    "\n",
    "\treturn gathered_categories"
   ]
  },
  {
   "cell_type": "code",
   "execution_count": 10,
   "metadata": {},
   "outputs": [],
   "source": [
    "def barplot(data, filename, buy_categories, colors):\n",
    "\n",
    "\tfor burger_type in data:\n",
    "\t\t# burger_type is like 1A, 1B, 2A, 2B, etc...\n",
    "\t\t\n",
    "\t\t# Gathers responses into positive, negative, etc...\n",
    "\t\tdata_gathered = gather_buy_responses(data[burger_type], buy_categories)\n",
    "\t\tprint(data_gathered)\n",
    "\n",
    "\t\t# x = data_gathered.keys()\n",
    "\t\t# y = data_gathered.values()\n",
    "\n",
    "\t\t# barplot = sns.barplot(x=x, y=y, errorbar=None)\n",
    "\n",
    "\t\t# for bar, color in zip(barplot.patches, colors):\n",
    "\t\t# \tbar.set_color(color)\n",
    "\t\t# \tbar.set_edgecolor('#000000')\n",
    "\t\t# \tbar.set_linewidth(1)\n",
    "\n",
    "\t\t# plt.ylabel('Number of reponses')"
   ]
  },
  {
   "cell_type": "markdown",
   "metadata": {},
   "source": [
    "## Loop that creates the plots"
   ]
  },
  {
   "cell_type": "code",
   "execution_count": 11,
   "metadata": {},
   "outputs": [
    {
     "name": "stdout",
     "output_type": "stream",
     "text": [
      "sample_3-buy\n",
      "ok\n",
      "sample_1-buy\n",
      "ok\n",
      "sample_2-buy\n",
      "ok\n",
      "ok\n"
     ]
    }
   ],
   "source": [
    "data_path = 'data-google_forms/structured/'\n",
    "\n",
    "for csv in os.listdir(data_path):\n",
    "\t\n",
    "\tdic = csv_to_dic(data_path + csv)\n",
    "\t\n",
    "\tif csv == 'diet.csv':\n",
    "\t\tprint('ok')\n",
    "\t\n",
    "\telif csv.endswith('-prefer.csv'):\n",
    "\t\talga = csv[-12]\n",
    "\t\tcurrent_colors = list(preferences_colors[alga].values())\n",
    "\t\tprint('ok')\n",
    "\t\n",
    "\telif csv.endswith('-buy.csv'):\n",
    "\t\tprint(csv[:-4])\n",
    "\t\t# barplot(dic, csv[:-4], buy_categories, buy_colors)"
   ]
  }
 ],
 "metadata": {
  "kernelspec": {
   "display_name": "ds-latests",
   "language": "python",
   "name": "python3"
  },
  "language_info": {
   "codemirror_mode": {
    "name": "ipython",
    "version": 3
   },
   "file_extension": ".py",
   "mimetype": "text/x-python",
   "name": "python",
   "nbconvert_exporter": "python",
   "pygments_lexer": "ipython3",
   "version": "3.12.4"
  }
 },
 "nbformat": 4,
 "nbformat_minor": 2
}

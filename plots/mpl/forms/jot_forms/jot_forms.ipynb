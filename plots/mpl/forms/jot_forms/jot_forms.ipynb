{
 "cells": [
  {
   "cell_type": "markdown",
   "metadata": {},
   "source": [
    "# Jot forms"
   ]
  },
  {
   "cell_type": "markdown",
   "metadata": {},
   "source": [
    "## Import libraries"
   ]
  },
  {
   "cell_type": "code",
   "execution_count": 1,
   "metadata": {},
   "outputs": [],
   "source": [
    "import os\n",
    "\n",
    "import matplotlib.pyplot as plt\n",
    "import pandas as pd\n",
    "import numpy as np\n",
    "import seaborn as sns\n",
    "\n",
    "sns.set_style(\"darkgrid\")"
   ]
  },
  {
   "cell_type": "code",
   "execution_count": 2,
   "metadata": {},
   "outputs": [],
   "source": [
    "# Font setting\n",
    "\n",
    "import matplotlib.font_manager as font_manager\n",
    "\n",
    "font_path = '../../Minion3/Minion3-Regular.ttf'  # Your font path goes here\n",
    "font_manager.fontManager.addfont(font_path)\n",
    "prop = font_manager.FontProperties(fname=font_path)\n",
    "\n",
    "plt.rcParams['font.family'] = 'serif'\n",
    "plt.rcParams['font.serif'] = prop.get_name()"
   ]
  },
  {
   "cell_type": "markdown",
   "metadata": {},
   "source": [
    "## Define colors"
   ]
  },
  {
   "cell_type": "code",
   "execution_count": 3,
   "metadata": {},
   "outputs": [],
   "source": [
    "preferences_colors = {\n",
    "\t'1' : { # Spirulina\n",
    "\t\t\t'color_1' : '#C5E1A5',\n",
    "\t\t\t'color_2' : '#7FB871',\n",
    "\t\t\t},\n",
    "\t'2' : { # Chlorella\n",
    "\t\t\t'color_1' : '#FFF9C4',\n",
    "\t\t\t'color_2' : '#FDDD79',\n",
    "\t\t\t},\n",
    "\t'3' : { # Palmaria\n",
    "\t\t\t'color_1' : '#F7CBDA',\n",
    "\t\t\t'color_2' : '#F7AFC8'\n",
    "\t\t\t},\n",
    "}"
   ]
  },
  {
   "cell_type": "markdown",
   "metadata": {},
   "source": [
    "## Define functions"
   ]
  },
  {
   "cell_type": "code",
   "execution_count": 4,
   "metadata": {},
   "outputs": [],
   "source": [
    "def csv_to_dic(csv_file):\n",
    "\t'''Funzione che inserisce i dati dei csv delle buy responses in un dizionario \n",
    "\t\t{burger_type: { buy_response : occurrences }, ... }\n",
    "\tformattando il tutto'''\n",
    "\n",
    "\t# Given a series/column, makes a dic {answer : counts}\n",
    "\tdef occurrences_dic(column):\n",
    "\t\treturn column.value_counts().to_dict()\n",
    "\n",
    "\t# Load the CSV file into a DataFrame\n",
    "\tdf = pd.read_csv(csv_file)\n",
    "\n",
    "\t# Counts the columns\n",
    "\tn_columns = len(df.columns)\n",
    "\n",
    "\t# Initialize the dictionary\n",
    "\tdic = {}\n",
    "\n",
    "\t# Iterates for every column of the csv\n",
    "\tfor column in range(n_columns):\n",
    "\n",
    "\t\t# Selects only the current column\n",
    "\t\tsel_column = df.iloc[:, column]\n",
    "\t\t\n",
    "\t\t# If the csv is a \"buy type\" (the ones with more than one column)\n",
    "\t\tif n_columns != 1:\n",
    "\n",
    "\t\t\t# Get and format the header\n",
    "\t\t\theader = sel_column.name\n",
    "\n",
    "\t\t\t# Makes dic {answer : counts}\n",
    "\t\t\toccurrences = occurrences_dic(sel_column)\n",
    "\t\t\tdic[header] = occurrences\n",
    "\t\t\n",
    "\t\t# If the csv is a \"prefer type\" (the ones with only one column)\n",
    "\t\telse:\n",
    "\t\t\tdic = occurrences_dic(sel_column)\n",
    "\n",
    "\treturn dic"
   ]
  },
  {
   "cell_type": "code",
   "execution_count": 5,
   "metadata": {},
   "outputs": [],
   "source": [
    "def pieplot(data, filename, colors):\n",
    "\t'''Crea un pieplot per ...'''\n",
    "\n",
    "\t# Definizione dati\n",
    "\tlabels = data.keys()\n",
    "\tvalues = data.values()\n",
    "\n",
    "\t# Calcola la percentuale\n",
    "\tdef make_autopct(values):\n",
    "\t\tdef my_autopct(pct):\n",
    "\t\t\ttotal = sum(values)\n",
    "\t\t\tval = int(round(pct*total/100.0))\n",
    "\t\t\treturn '{p:.1f}%  ({v:d})'.format(p=pct,v=val)\n",
    "\t\treturn my_autopct\n",
    "\t\t\n",
    "\t# Crea il pieplot\n",
    "\tplt.pie(values, labels = labels, colors=colors, autopct=make_autopct(values))\n",
    "\tplt.savefig('jot_forms-outs/' + filename + '.pdf', format=\"pdf\", bbox_inches='tight',pad_inches = 0)\n",
    "\tplt.close()"
   ]
  },
  {
   "cell_type": "markdown",
   "metadata": {},
   "source": [
    "## Loop that creates the plots"
   ]
  },
  {
   "cell_type": "code",
   "execution_count": 6,
   "metadata": {},
   "outputs": [],
   "source": [
    "data_path = 'data-jot_forms/structured/'\n",
    "\n",
    "for csv in os.listdir(data_path):\n",
    "\t\n",
    "\tdic = csv_to_dic(data_path + csv)\n",
    "\t\n",
    "\talga = csv[-5]\n",
    "\tcurrent_colors = list(preferences_colors[alga].values())\n",
    "\tpieplot(dic, csv[:-4], current_colors)"
   ]
  }
 ],
 "metadata": {
  "language_info": {
   "name": "python"
  }
 },
 "nbformat": 4,
 "nbformat_minor": 2
}

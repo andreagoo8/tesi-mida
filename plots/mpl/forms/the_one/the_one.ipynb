{
 "cells": [
  {
   "cell_type": "markdown",
   "metadata": {},
   "source": [
    "# The ONE barplot"
   ]
  },
  {
   "cell_type": "markdown",
   "metadata": {},
   "source": [
    "## Import libraries"
   ]
  },
  {
   "cell_type": "code",
   "execution_count": 1,
   "metadata": {},
   "outputs": [],
   "source": [
    "import os\n",
    "\n",
    "import matplotlib.pyplot as plt\n",
    "import pandas as pd\n",
    "import numpy as np\n",
    "import seaborn as sns\n",
    "\n",
    "sns.set_style(\"darkgrid\")"
   ]
  },
  {
   "cell_type": "code",
   "execution_count": 2,
   "metadata": {},
   "outputs": [],
   "source": [
    "# Font setting\n",
    "\n",
    "import matplotlib.font_manager as font_manager\n",
    "\n",
    "font_path = '../../Minion3/Minion3-Regular.ttf'  # Your font path goes here\n",
    "font_manager.fontManager.addfont(font_path)\n",
    "prop = font_manager.FontProperties(fname=font_path)\n",
    "\n",
    "plt.rcParams['font.family'] = 'serif'\n",
    "plt.rcParams['font.serif'] = prop.get_name()"
   ]
  },
  {
   "cell_type": "markdown",
   "metadata": {},
   "source": [
    "## First try (done myself)"
   ]
  },
  {
   "cell_type": "code",
   "execution_count": 3,
   "metadata": {},
   "outputs": [],
   "source": [
    "# colors = [\n",
    "# \t'#F7CBDA', #1A\n",
    "# \t'#F7AFC8', #1B\n",
    "\n",
    "# \t'#C5E1A5', #2A\n",
    "# \t'#7FB871', #2B\n",
    "# \t'#388E3C', #2C\n",
    "\n",
    "# \t'#FFF9C4', #3A\n",
    "# \t'#FDDD79', #3B\n",
    "# \t'#FBC02D', #3C\n",
    "# ]"
   ]
  },
  {
   "cell_type": "code",
   "execution_count": 4,
   "metadata": {},
   "outputs": [],
   "source": [
    "# x = [\n",
    "# \t'1A', '1B',\n",
    "\n",
    "# \t'2A', '2B', '2C',\n",
    "\n",
    "# \t'3A', '3B', '3C',\n",
    "# ]\n",
    "\n",
    "# y = [\n",
    "# \t17, 4, # 1A, 1B\n",
    "\n",
    "# \t2, 2, 3, #2A, 2B, 2C\n",
    "\n",
    "# \t3, 5, 9, #3A, 3B, 3C\n",
    "# ]"
   ]
  },
  {
   "cell_type": "code",
   "execution_count": 5,
   "metadata": {},
   "outputs": [],
   "source": [
    "# barplot = sns.barplot(x=x, y=y, errorbar=None)\n",
    "\n",
    "# for bar, color in zip(barplot.patches, colors):\n",
    "# \tbar.set_color(color)\n",
    "# \tbar.set_edgecolor('#000000')\n",
    "# \tbar.set_linewidth(1)\n",
    "\n",
    "# plt.xlabel('Burger type')\n",
    "# plt.ylabel('Number of reponses')\n",
    "\n",
    "# # plt.savefig('the_one-outs/the_one.pdf', format=\"pdf\", bbox_inches='tight')\n",
    "# plt.show()\n",
    "# # plt.close()"
   ]
  },
  {
   "cell_type": "markdown",
   "metadata": {},
   "source": [
    "## Second try (rearranged from matplotlib site)"
   ]
  },
  {
   "cell_type": "code",
   "execution_count": 6,
   "metadata": {},
   "outputs": [],
   "source": [
    "# colors = {\n",
    "# \t'A' : ['#F7CBDA', '#C5E1A5', '#FFF9C4'],\n",
    "# \t'B' : ['#F7AFC8', '#7FB871', '#FDDD79'],\n",
    "# \t'C' : ['#FFFFFF', '#7FB871', '#FBC02D'],\n",
    "# }"
   ]
  },
  {
   "cell_type": "code",
   "execution_count": 7,
   "metadata": {},
   "outputs": [],
   "source": [
    "# print(burger)\n",
    "# print(prefs)\n",
    "# A\n",
    "# (17, 2, 3)\n",
    "# B\n",
    "# (4, 2, 5)\n",
    "# C\n",
    "# (0, 3, 9)"
   ]
  },
  {
   "cell_type": "code",
   "execution_count": 8,
   "metadata": {},
   "outputs": [],
   "source": [
    "# algae = (\"Palmaria\", \"Spirulina\", \"Chlorella\")\n",
    "# burger_prefs = {\n",
    "# \t'A': (17, 2, 3),\n",
    "# \t'B': (4, 2, 5),\n",
    "# \t'C': (0, 3, 9),\n",
    "# }\n",
    "\n",
    "# x = np.arange(len(algae))  # the label locations\n",
    "\n",
    "# width = 0.25  # the width of the bars\n",
    "# multiplier = 0\n",
    "\n",
    "# fig, ax = plt.subplots(layout='constrained')\n",
    "\n",
    "# for burger, prefs in burger_prefs.items():\n",
    "# \toffset = width * multiplier\n",
    "# \trects = ax.bar(x + offset, prefs, width, label=burger, color=colors[burger], edgecolor='black')\n",
    "# \tsecax.bar_label(rects, padding=3)\n",
    "# \tmultiplier += 1\n",
    "\n",
    "# # Add some text for labels, title and custom x-axis tick labels, etc.\n",
    "# secax.set_ylabel('Number of responses')\n",
    "# ax.set_xticks(x + width, algae)\n",
    "# # ax.legend(loc='upper left', ncols=3)\n",
    "# ax.set_ylim(0, 23)\n",
    "\n",
    "# plt.show()"
   ]
  },
  {
   "cell_type": "markdown",
   "metadata": {},
   "source": [
    "## Third try (rearranged from matplotlib site in a more logical way)"
   ]
  },
  {
   "cell_type": "code",
   "execution_count": 9,
   "metadata": {},
   "outputs": [],
   "source": [
    "colors = {\n",
    "\t'1' : ['#F7CBDA', '#F7AFC8'],\n",
    "\t'2' : ['#C5E1A5', '#7FB871', '#7FB871'],\n",
    "\t'3' : ['#FFF9C4', '#FDDD79', '#FBC02D'],\n",
    "}"
   ]
  },
  {
   "cell_type": "code",
   "execution_count": 10,
   "metadata": {},
   "outputs": [],
   "source": [
    "burger_prefs = {\n",
    "\t'1': (17, 4),\n",
    "\t'2': (2, 2, 3),\n",
    "\t'3': (3, 5, 9),\n",
    "}"
   ]
  },
  {
   "cell_type": "code",
   "execution_count": 11,
   "metadata": {},
   "outputs": [],
   "source": [
    "algae = (\"Palmaria\", \"Spirulina\", \"Chlorella\")\n",
    "\n",
    "burger_prefs = {\n",
    "    '1': (17, 4),\n",
    "    '2': (2, 2, 3),\n",
    "    '3': (3, 5, 9),\n",
    "}\n",
    "\n",
    "bar_width = 0.25\n",
    "\n",
    "fig, ax = plt.subplots(layout='constrained')\n",
    "\n",
    "start = 0\n",
    "mid_positions = []\n",
    "all_bar_positions = []\n",
    "burger_labels = []\n",
    "\n",
    "for burger_code, prefs in burger_prefs.items():\n",
    "\tbar_pos = np.arange(start, start + (len(prefs) * bar_width), bar_width)\n",
    "\tmid_positions.append((bar_pos[0] + bar_pos[-1]) / 2)\n",
    "\n",
    "\trec_couple = ax.bar(bar_pos, prefs, bar_width, label=burger_code, color=colors[burger_code], edgecolor='black')\n",
    "\tax.bar_label(rec_couple, padding=3)\n",
    "\n",
    "\t# Collect all bar positions and labels\n",
    "\tall_bar_positions.extend(bar_pos)\n",
    "\tlabels = [f\"{burger_code}{chr(65 + i)}\" for i in range(len(prefs))]\n",
    "\tburger_labels.extend(labels)\n",
    "\n",
    "\tstart = bar_pos[-1] + 0.5\n",
    "\n",
    "# Set burgers labels\n",
    "ax.set_xticks(all_bar_positions)\n",
    "ax.set_xticklabels(burger_labels)\n",
    "ax.tick_params(axis='x', pad=0)\n",
    "\n",
    "# Add a secondary x-axis for algae labels\n",
    "secax = ax.secondary_xaxis(-0.05)\n",
    "secax.set_xticks(mid_positions)\n",
    "secax.set_xticklabels(algae, fontweight='bold')\n",
    "secax.tick_params(axis='x', pad=0)\n",
    "secax.tick_params(bottom=False)\n",
    "\n",
    "# Add some text for labels, title and custom x-axis tick labels, etc.\n",
    "ax.set_ylabel('Number of responses')\n",
    "# ax.legend(loc='upper left', ncols=3)\n",
    "ax.set_ylim(0, 23)\n",
    "\n",
    "plt.savefig('the_one-outs/the_one.pdf', format=\"pdf\", bbox_inches='tight',pad_inches = 0)\n",
    "plt.close()\n",
    "# plt.show()"
   ]
  },
  {
   "cell_type": "markdown",
   "metadata": {},
   "source": [
    "## ChatGPT old"
   ]
  },
  {
   "cell_type": "code",
   "execution_count": 12,
   "metadata": {},
   "outputs": [],
   "source": [
    "# # Define the data\n",
    "# algae = (\"Palmaria\", \"Spirulina\", \"Chlorella\")\n",
    "# burger_type = {\n",
    "#     'A': (17, 2, 3),\n",
    "#     'B': (4, 2, 5),\n",
    "#     'C': (0, 3, 9)  # Exclude the value for \"Palmaria\"\n",
    "# }\n",
    "\n",
    "# preferences_colors = {\n",
    "#     'Palmaria': {\n",
    "#         'A': '#F7CBDA',\n",
    "#         'B': '#F7AFC8'\n",
    "#     },\n",
    "#     'Spirulina': {\n",
    "#         'A': '#C5E1A5',\n",
    "#         'B': '#7FB871',\n",
    "#         'C': '#388E3C'\n",
    "#     },\n",
    "#     'Chlorella': {\n",
    "#         'A': '#FFF9C4',\n",
    "#         'B': '#FDDD79',\n",
    "#         'C': '#FBC02D'\n",
    "#     }\n",
    "# }\n",
    "\n",
    "# # Define the label locations\n",
    "# x = np.arange(len(algae))  # the label locations\n",
    "# width = 0.25  # the width of the bars\n",
    "# multiplier = 0\n",
    "\n",
    "# fig, ax = plt.subplots(layout='constrained')\n",
    "\n",
    "# # Plot the bars\n",
    "# for attribute, measurement in burger_type.items():\n",
    "#     offset = width * multiplier\n",
    "#     for i in range(len(algae)):\n",
    "#         color = preferences_colors[algae[i]].get(attribute, '#000000')  # Default to black if not found\n",
    "#         if i < len(measurement):\n",
    "#             rects = ax.bar(x[i] + offset, measurement[i], width, label=attribute if i == 0 else \"\", color=color)\n",
    "#             ax.bar_label(rects, padding=3)\n",
    "#     multiplier += 1\n",
    "\n",
    "# # Add some text for labels, title and custom x-axis tick labels, etc.\n",
    "# ax.set_ylabel('Length (mm)')\n",
    "# ax.set_xticks(x + width, labels=algae)\n",
    "# ax.legend(loc='upper left', ncols=3)\n",
    "# ax.set_ylim(0, 20)\n",
    "\n",
    "# plt.show()"
   ]
  }
 ],
 "metadata": {
  "kernelspec": {
   "display_name": "ds-latests",
   "language": "python",
   "name": "python3"
  },
  "language_info": {
   "codemirror_mode": {
    "name": "ipython",
    "version": 3
   },
   "file_extension": ".py",
   "mimetype": "text/x-python",
   "name": "python",
   "nbconvert_exporter": "python",
   "pygments_lexer": "ipython3",
   "version": "3.12.4"
  }
 },
 "nbformat": 4,
 "nbformat_minor": 2
}

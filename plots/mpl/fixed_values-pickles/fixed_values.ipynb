{
 "cells": [
  {
   "cell_type": "markdown",
   "metadata": {},
   "source": [
    "# Write to pickle files all fixed values"
   ]
  },
  {
   "cell_type": "code",
   "execution_count": 1,
   "metadata": {},
   "outputs": [],
   "source": [
    "import pickle"
   ]
  },
  {
   "cell_type": "markdown",
   "metadata": {},
   "source": [
    "## Function \"under the hood\""
   ]
  },
  {
   "cell_type": "code",
   "execution_count": 2,
   "metadata": {},
   "outputs": [],
   "source": [
    "def write_to_file(obj, obj_fname):\n",
    "\t# Open a file in write-binary mode\n",
    "\twith open('pickle_files/' + obj_fname + '.pkl', 'wb') as fp:\n",
    "\n",
    "\t\t# Dump the dictionary into the file\n",
    "\t\tpickle.dump(obj, fp)"
   ]
  },
  {
   "cell_type": "markdown",
   "metadata": {},
   "source": [
    "## Fixed values"
   ]
  },
  {
   "cell_type": "markdown",
   "metadata": {},
   "source": [
    "### Algae names"
   ]
  },
  {
   "cell_type": "code",
   "execution_count": 3,
   "metadata": {},
   "outputs": [],
   "source": [
    "algae_names = {'spir' : 'spirulina', 'chlo' : 'chlorella', 'palm' : 'palmaria'}\n",
    "algae_names_fname = 'algae_names'\n",
    "write_to_file(algae_names, algae_names_fname)"
   ]
  },
  {
   "cell_type": "markdown",
   "metadata": {},
   "source": [
    "### Content type (ashes, moisture, ...)"
   ]
  },
  {
   "cell_type": "code",
   "execution_count": 4,
   "metadata": {},
   "outputs": [],
   "source": [
    "content_types = {'ashs' : 'ashes', 'mois' : 'moisture', 'lips' : 'lipids', 'prot' : 'proteins'}\n",
    "content_types_fname = 'content_types'\n",
    "write_to_file(content_types, content_types_fname)"
   ]
  }
 ],
 "metadata": {
  "language_info": {
   "name": "python"
  }
 },
 "nbformat": 4,
 "nbformat_minor": 2
}

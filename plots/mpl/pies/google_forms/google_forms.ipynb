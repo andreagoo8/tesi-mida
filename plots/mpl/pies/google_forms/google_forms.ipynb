{
 "cells": [
  {
   "cell_type": "code",
   "execution_count": 1,
   "metadata": {},
   "outputs": [],
   "source": [
    "import os\n",
    "\n",
    "import matplotlib.pyplot as plt\n",
    "import pandas as pd\n",
    "import numpy as np\n",
    "import seaborn as sns\n",
    "\n",
    "sns.set_style(\"darkgrid\")"
   ]
  },
  {
   "cell_type": "markdown",
   "metadata": {},
   "source": [
    "# Fixed values and functions for all plots"
   ]
  },
  {
   "cell_type": "code",
   "execution_count": 2,
   "metadata": {},
   "outputs": [],
   "source": [
    "# # Loads algae names\n",
    "# with open('../../fixed_values-pickles/pickle_files/algae_names.pkl', 'rb') as fp:\n",
    "# \talgae_names = pickle.load(fp)\n",
    "\n",
    "# # Loads content types (ashes, moisture, ...)\n",
    "# with open('../../fixed_values-pickles/pickle_files/content_types.pkl', 'rb') as fp:\n",
    "# \tcontent_types = pickle.load(fp)\n",
    "\n",
    "# control_color = '#FFFFFF' # white\n",
    "# xlabel = 'Burger type'\n",
    "# ylabel = 'Percentage of '\n",
    "\n",
    "# def get_contenttype(in_ct):\n",
    "# \tcontent_type = content_types[in_ct]\n",
    "# \treturn content_type\n",
    "\n",
    "# def set_filename(alga, ct):\n",
    "# \tfilename = alga + '_' + ct\n",
    "# \treturn filename"
   ]
  },
  {
   "cell_type": "code",
   "execution_count": 3,
   "metadata": {},
   "outputs": [],
   "source": [
    "def csv_to_dic(csv_file):\n",
    "\t'''Funzione che inserisce i dati dei csv delle buy responses in un dizionario \n",
    "\t\t{burger_type: { buy_response : occurrences }, ... }\n",
    "\tformattando il tutto'''\n",
    "\n",
    "\t# Given a series/column, makes a dic {answer : counts}\n",
    "\tdef occurrences_dic(column):\n",
    "\t\treturn column.value_counts().to_dict()\n",
    "\n",
    "\t# Load the CSV file into a DataFrame\n",
    "\tdf = pd.read_csv(csv_file)\n",
    "\n",
    "\t# Counts the columns\n",
    "\tn_columns = len(df.columns)\n",
    "\n",
    "\t# Initialize the dictionary\n",
    "\tdic = {}\n",
    "\n",
    "\t# Iterates for every column of the csv\n",
    "\tfor column in range(n_columns):\n",
    "\n",
    "\t\t# Selects only the current column\n",
    "\t\tsel_column = df.iloc[:, column]\n",
    "\t\t\n",
    "\t\t# If the csv is a \"buy type\" (the ones with more than one column)\n",
    "\t\tif n_columns != 1:\n",
    "\n",
    "\t\t\t# Get and format the header\n",
    "\t\t\theader = sel_column.name\n",
    "\t\t\theader = header[-3:-1] # Write [-2:-1] for only the letter\n",
    "\n",
    "\t\t\t# Makes dic {answer : counts}\n",
    "\t\t\toccurrences = occurrences_dic(sel_column)\n",
    "\t\t\tdic[header] = occurrences\n",
    "\t\t\n",
    "\t\t# If the csv is a \"prefer type\" (the ones with only one column)\n",
    "\t\telse:\n",
    "\t\t\tdic = occurrences_dic(sel_column)\n",
    "\n",
    "\treturn dic"
   ]
  },
  {
   "cell_type": "code",
   "execution_count": 4,
   "metadata": {},
   "outputs": [],
   "source": [
    "def pieplot(data, filename, colors):\n",
    "\t'''Crea un pieplot per ...'''\n",
    "\t# Definizione dati\n",
    "\tlabels = data.keys()\n",
    "\tvalues = data.values()\n",
    "\n",
    "\t# Calcola la percentuale\n",
    "\tdef make_autopct(values):\n",
    "\t\tdef my_autopct(pct):\n",
    "\t\t\ttotal = sum(values)\n",
    "\t\t\tval = int(round(pct*total/100.0))\n",
    "\t\t\treturn '{p:.1f}%  ({v:d})'.format(p=pct,v=val)\n",
    "\t\treturn my_autopct\n",
    "\n",
    "\t# Crea il pieplot\n",
    "\tplt.pie(values, labels = labels, colors=colors, autopct=make_autopct(values))\n",
    "\tplt.savefig('google_forms-outs/' + filename + '.pdf', format=\"pdf\")\n",
    "\tplt.close()\n",
    "\t"
   ]
  },
  {
   "cell_type": "markdown",
   "metadata": {},
   "source": [
    "# Diets (personal info)"
   ]
  },
  {
   "cell_type": "code",
   "execution_count": 5,
   "metadata": {},
   "outputs": [],
   "source": [
    "diet_color_1 = '#801818' # \n",
    "diet_color_2 = '#004225' # \n",
    "diet_color_3 = '#AD2624' # \n",
    "diet_colors = [diet_color_1, diet_color_2, diet_color_3]"
   ]
  },
  {
   "cell_type": "markdown",
   "metadata": {},
   "source": [
    "# Burger samples (sensory analysis)"
   ]
  },
  {
   "cell_type": "markdown",
   "metadata": {},
   "source": [
    "## Fixed values and functions for burger samples (sensory analysis)"
   ]
  },
  {
   "cell_type": "code",
   "execution_count": 7,
   "metadata": {},
   "outputs": [],
   "source": [
    "preferences_colors_1 = '#801818' # \n",
    "preferences_colors_2 = '#004225' # \n",
    "preferences_colors_3 = '#AD2624' # \n",
    "preferences_colors = [preferences_colors_1, preferences_colors_2, preferences_colors_3]"
   ]
  },
  {
   "cell_type": "code",
   "execution_count": 8,
   "metadata": {},
   "outputs": [],
   "source": [
    "buy_color_1 = '#801818' # \n",
    "buy_color_2 = '#003250' # \n",
    "buy_color_3 = '#AD2624' # \n",
    "buy_color_4 = '#004225' # \n",
    "buy_color_5 = '#800020' #\n",
    "buy_colors = [buy_color_1, buy_color_2, buy_color_3, buy_color_4, buy_color_5] "
   ]
  },
  {
   "cell_type": "code",
   "execution_count": 9,
   "metadata": {},
   "outputs": [],
   "source": [
    "buy_categories = {\n",
    "\t'cat_1': ['Certainly would not buy'],\n",
    "\t'cat_2': ['Probably would not buy', 'Maybe would buy', 'Probably would buy'],\n",
    "\t'cat_3': ['Certainly would buy']\n",
    "}"
   ]
  },
  {
   "cell_type": "code",
   "execution_count": 10,
   "metadata": {},
   "outputs": [],
   "source": [
    "def gather_buy_responses(dic, buy_categories):\n",
    "\t'''\n",
    "\tFunzione che a partire da un dizionario\n",
    "\t\t{ buy_response : occurrences, ... }\n",
    "\te un dizionario\n",
    "\t\t{ nome_categoria : [buy_response_1, ...] }\n",
    "\trestituisce un dizionario con:\n",
    "\t\tchiavi -> le buy_responses raggruppate per categoria\n",
    "\t\tvalori -> i conteggi di quella categoria di buy_responses\n",
    "\t'''\n",
    "\tsr = pd.Series(dic)\n",
    "\n",
    "\tgathered_categories = {}\n",
    "\n",
    "\t# Iterate for every category\n",
    "\tfor category in buy_categories:\n",
    "\n",
    "\t\t# Compute occurrences of every category\n",
    "\t\tsum = sr.loc[buy_categories[category]].sum()\n",
    "\t\tgathered_categories[category] = sum\n",
    "\n",
    "\treturn gathered_categories"
   ]
  },
  {
   "cell_type": "code",
   "execution_count": 11,
   "metadata": {},
   "outputs": [],
   "source": [
    "def barplot(data, filename, buy_categories, colors):\n",
    "\n",
    "\tfor burger_type in data:\n",
    "\t\t# burger_type is like 1A, 1B, 2A, 2B, etc...\n",
    "\t\t\n",
    "\t\t# Gathers responses into positive, negative, etc...\n",
    "\t\tdata_gathered = gather_buy_responses(data[burger_type], buy_categories)\n",
    "\n",
    "\t\tx = data_gathered.keys()\n",
    "\t\ty = data_gathered.values()\n",
    "\n",
    "\t\tbarplot = sns.barplot(x=x, y=y, errorbar=None)\n",
    "\n",
    "\t\tfor bar, color in zip(barplot.patches, colors):\n",
    "\t\t\tbar.set_color(color)\n",
    "\t\t\tbar.set_edgecolor('#000000')\n",
    "\t\t\tbar.set_linewidth(1)\n",
    "\n",
    "\t\tplt.ylabel('Number of reponses')\n",
    "\n",
    "\t\tplt.savefig('google_forms-outs/' + filename + '.pdf', format=\"pdf\")\n",
    "\t\tplt.close()"
   ]
  },
  {
   "cell_type": "markdown",
   "metadata": {},
   "source": [
    "# Let's make the plots"
   ]
  },
  {
   "cell_type": "code",
   "execution_count": 12,
   "metadata": {},
   "outputs": [
    {
     "name": "stdout",
     "output_type": "stream",
     "text": [
      "sample_3-buy.csv\n",
      "diet.csv\n",
      "sample_1-buy.csv\n",
      "sample_1-prefer.csv\n",
      "sample_2-buy.csv\n",
      "sample_3-prefer.csv\n",
      "sample_2-prefer.csv\n"
     ]
    }
   ],
   "source": [
    "data_path = 'data-google_forms/structured/'\n",
    "\n",
    "for csv in os.listdir(data_path):\n",
    "\t\n",
    "\tdic = csv_to_dic(data_path + csv)\n",
    "\t\n",
    "\tif csv == 'diet.csv':\n",
    "\t\tpieplot(dic, csv[:-4], diet_colors)\n",
    "\t\n",
    "\telif csv.endswith('-prefer.csv'):\n",
    "\t\tpieplot(dic, csv[:-4], preferences_colors)\n",
    "\t\n",
    "\telif csv.endswith('-buy.csv'):\n",
    "\t\tbarplot(dic, csv[:-4], buy_categories, buy_colors)"
   ]
  },
  {
   "cell_type": "markdown",
   "metadata": {},
   "source": [
    "## Sample 1"
   ]
  },
  {
   "cell_type": "markdown",
   "metadata": {},
   "source": [
    "### Sample 1 - preferences"
   ]
  },
  {
   "cell_type": "code",
   "execution_count": 13,
   "metadata": {},
   "outputs": [
    {
     "name": "stdout",
     "output_type": "stream",
     "text": [
      "{'3C': 22, '3B': 14, '3A': 5}\n"
     ]
    },
    {
     "ename": "TypeError",
     "evalue": "pieplot() missing 1 required positional argument: 'colors'",
     "output_type": "error",
     "traceback": [
      "\u001b[0;31m---------------------------------------------------------------------------\u001b[0m",
      "\u001b[0;31mTypeError\u001b[0m                                 Traceback (most recent call last)",
      "\u001b[1;32m/home/ag8l/Documents/Mida/tesi-mida/plots/mpl/pies/google_forms/google_forms.ipynb Cell 20\u001b[0m line \u001b[0;36m5\n\u001b[1;32m      <a href='vscode-notebook-cell:/home/ag8l/Documents/Mida/tesi-mida/plots/mpl/pies/google_forms/google_forms.ipynb#X22sZmlsZQ%3D%3D?line=0'>1</a>\u001b[0m sample_1 \u001b[39m=\u001b[39m csv_to_dic(\u001b[39m'\u001b[39m\u001b[39mdata-google_forms/structured/sample_3-prefer.csv\u001b[39m\u001b[39m'\u001b[39m)\n\u001b[1;32m      <a href='vscode-notebook-cell:/home/ag8l/Documents/Mida/tesi-mida/plots/mpl/pies/google_forms/google_forms.ipynb#X22sZmlsZQ%3D%3D?line=2'>3</a>\u001b[0m \u001b[39mprint\u001b[39m(sample_1)\n\u001b[0;32m----> <a href='vscode-notebook-cell:/home/ag8l/Documents/Mida/tesi-mida/plots/mpl/pies/google_forms/google_forms.ipynb#X22sZmlsZQ%3D%3D?line=4'>5</a>\u001b[0m pieplot(sample_1, preferences_colors)\n",
      "\u001b[0;31mTypeError\u001b[0m: pieplot() missing 1 required positional argument: 'colors'"
     ]
    }
   ],
   "source": [
    "sample_1 = csv_to_dic('data-google_forms/structured/sample_3-prefer.csv')\n",
    "\n",
    "print(sample_1)\n",
    "\n",
    "pieplot(sample_1, preferences_colors)"
   ]
  },
  {
   "cell_type": "markdown",
   "metadata": {},
   "source": [
    "## Sample 2"
   ]
  },
  {
   "cell_type": "code",
   "execution_count": null,
   "metadata": {},
   "outputs": [
    {
     "data": {
      "image/png": "[encoded data removed]",
      "text/plain": [
       "<Figure size 640x480 with 1 Axes>"
      ]
     },
     "metadata": {},
     "output_type": "display_data"
    },
    {
     "data": {
      "image/png": "[encoded data removed]",
      "text/plain": [
       "<Figure size 640x480 with 1 Axes>"
      ]
     },
     "metadata": {},
     "output_type": "display_data"
    }
   ],
   "source": [
    "sample_1 = csv_to_dic('data-google_forms/sample_1-buy.csv')\n",
    "\n",
    "barplot(sample_1, buy_categories, buy_colors)"
   ]
  },
  {
   "cell_type": "markdown",
   "metadata": {},
   "source": [
    "## Sample 3"
   ]
  },
  {
   "cell_type": "code",
   "execution_count": null,
   "metadata": {},
   "outputs": [],
   "source": []
  }
 ],
 "metadata": {
  "language_info": {
   "name": "python"
  }
 },
 "nbformat": 4,
 "nbformat_minor": 2
}

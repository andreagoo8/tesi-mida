{
 "cells": [
  {
   "cell_type": "code",
   "execution_count": 1,
   "metadata": {},
   "outputs": [],
   "source": [
    "import pandas as pd"
   ]
  },
  {
   "cell_type": "code",
   "execution_count": 29,
   "metadata": {},
   "outputs": [
    {
     "data": {
      "text/plain": [
       "{'2A': 17, '2C': 16, '2B': 8}"
      ]
     },
     "execution_count": 29,
     "metadata": {},
     "output_type": "execute_result"
    }
   ],
   "source": [
    "# # Example usage with the provided file\n",
    "# file_path = 'data/second_type/sample_2-prefer.csv'\n",
    "\n",
    "# # Given a series/column, makes a dic like {answer : counts}\n",
    "# def occurrences_dic(column):\n",
    "# \treturn column.value_counts().to_dict()\n",
    "\n",
    "# # Load the CSV file into a DataFrame\n",
    "# df = pd.read_csv(file_path)\n",
    "\n",
    "# n_columns = len(df.columns)\n",
    "\n",
    "# # Initialize the dictionary\n",
    "# dic = {}\n",
    "\n",
    "# for column in range(n_columns):\n",
    "\n",
    "# \t# Select one column at time\n",
    "# \tsel_column = df.iloc[:, column]\n",
    "\t\n",
    "# \t# If is a \"buy csv\" (the ones with more than one column)\n",
    "# \tif n_columns != 1:\n",
    "\n",
    "# \t\t# Get and format the header\n",
    "# \t\theader = sel_column.name\n",
    "# \t\theader = header[-3:-1] # Write [-2:-1] for only the letter\n",
    "\n",
    "# \t\t# Makes dic {answer : counts}\n",
    "# \t\toccurrences = occurrences_dic(sel_column)\n",
    "# \t\tdic[header] = occurrences\n",
    "\t\n",
    "# \t# If is a \"prefer csv\" (the ones with only one column)\n",
    "# \telse:\n",
    "# \t\tdic = occurrences_dic(sel_column)\n",
    "\n",
    "# dic"
   ]
  },
  {
   "cell_type": "code",
   "execution_count": 3,
   "metadata": {},
   "outputs": [],
   "source": [
    "def csv_to_dic(csv_file):\n",
    "\n",
    "\t# Given a series/column, makes a dic {answer : counts}\n",
    "\tdef occurrences_dic(column):\n",
    "\t\treturn column.value_counts().to_dict()\n",
    "\n",
    "\t# Load the CSV file into a DataFrame\n",
    "\tdf = pd.read_csv(csv_file)\n",
    "\n",
    "\t# Counts the columns\n",
    "\tn_columns = len(df.columns)\n",
    "\n",
    "\t# Initialize the dictionary\n",
    "\tdic = {}\n",
    "\n",
    "\t# Iterates for every column of the csv\n",
    "\tfor column in range(n_columns):\n",
    "\n",
    "\t\t# Selects only the current column\n",
    "\t\tsel_column = df.iloc[:, column]\n",
    "\t\t\n",
    "\t\t# If the csv is a \"buy type\" (the ones with more than one column)\n",
    "\t\tif n_columns != 1:\n",
    "\n",
    "\t\t\t# Get and format the header\n",
    "\t\t\theader = sel_column.name\n",
    "\t\t\theader = header[-3:-1] # Write [-2:-1] for only the letter\n",
    "\n",
    "\t\t\t# Makes dic {answer : counts}\n",
    "\t\t\toccurrences = occurrences_dic(sel_column)\n",
    "\t\t\tdic[header] = occurrences\n",
    "\t\t\n",
    "\t\t# If the csv is a \"prefer type\" (the ones with only one column)\n",
    "\t\telse:\n",
    "\t\t\tdic = occurrences_dic(sel_column)\n",
    "\n",
    "\treturn dic"
   ]
  }
 ],
 "metadata": {
  "language_info": {
   "name": "python"
  }
 },
 "nbformat": 4,
 "nbformat_minor": 2
}

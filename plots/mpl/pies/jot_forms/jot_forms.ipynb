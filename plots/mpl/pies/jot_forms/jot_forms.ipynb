{
 "cells": [
  {
   "cell_type": "code",
   "execution_count": 1,
   "metadata": {},
   "outputs": [],
   "source": [
    "import matplotlib.pyplot as plt\n",
    "import pandas as pd\n",
    "import numpy as np\n",
    "import seaborn as sns\n",
    "\n",
    "sns.set_style(\"darkgrid\")"
   ]
  },
  {
   "cell_type": "markdown",
   "metadata": {},
   "source": [
    "# Fixed values for all plots"
   ]
  },
  {
   "cell_type": "code",
   "execution_count": 2,
   "metadata": {},
   "outputs": [],
   "source": [
    "# # Loads algae names\n",
    "# with open('../../fixed_values-pickles/pickle_files/algae_names.pkl', 'rb') as fp:\n",
    "# \talgae_names = pickle.load(fp)\n",
    "\n",
    "# # Loads content types (ashes, moisture, ...)\n",
    "# with open('../../fixed_values-pickles/pickle_files/content_types.pkl', 'rb') as fp:\n",
    "# \tcontent_types = pickle.load(fp)\n",
    "\n",
    "# control_color = '#FFFFFF' # white\n",
    "# xlabel = 'Burger type'\n",
    "# ylabel = 'Percentage of '\n",
    "\n",
    "# def get_contenttype(in_ct):\n",
    "# \tcontent_type = content_types[in_ct]\n",
    "# \treturn content_type\n",
    "\n",
    "# def set_filename(alga, ct):\n",
    "# \tfilename = alga + '_' + ct\n",
    "# \treturn filename"
   ]
  },
  {
   "cell_type": "markdown",
   "metadata": {},
   "source": [
    "# First datas"
   ]
  },
  {
   "cell_type": "code",
   "execution_count": 3,
   "metadata": {},
   "outputs": [],
   "source": [
    "# ##### SAVEFIG\n",
    "\n",
    "# def pieplot_first(filename, a, b, a_label, b_label, a_color, b_color):\n",
    "\n",
    "# \t# Definizione dati\n",
    "# \tvalues = [a, b]\n",
    "# \tlabels = [a_label, b_label]\n",
    "\n",
    "# \t# Calcola la percentuale\n",
    "# \tdef make_autopct(values):\n",
    "# \t\tdef my_autopct(pct):\n",
    "# \t\t\ttotal = sum(values)\n",
    "# \t\t\tval = int(round(pct*total/100.0))\n",
    "# \t\t\treturn '{p:.2f}%  ({v:d})'.format(p=pct,v=val)\n",
    "# \t\treturn my_autopct\n",
    "\n",
    "# \t# Crea il pieplot\n",
    "# \tplt.pie(values, labels = labels, colors=[a_color, b_color], autopct=make_autopct(values))\n",
    "\n",
    "# \tplt.savefig('pie_outs/'+filename+'.pdf', format=\"pdf\")"
   ]
  },
  {
   "cell_type": "code",
   "execution_count": 4,
   "metadata": {},
   "outputs": [],
   "source": [
    "# ##### PRINT\n",
    "\n",
    "# def pieplot_first(data, a_label, b_label, a_color, b_color):\n",
    "\n",
    "\n",
    "# \t# Definizione dati\n",
    "# \tvalues = [a, b]\n",
    "# \tlabels = [a_label, b_label]\n",
    "\n",
    "# \t# Calcola la percentuale\n",
    "# \tdef make_autopct(values):\n",
    "# \t\tdef my_autopct(pct):\n",
    "# \t\t\ttotal = sum(values)\n",
    "# \t\t\tval = int(round(pct*total/100.0))\n",
    "# \t\t\treturn '{p:.2f}%  ({v:d})'.format(p=pct,v=val)\n",
    "# \t\treturn my_autopct\n",
    "\n",
    "# \t# Crea il pieplot\n",
    "# \tplt.pie(values, labels = labels, colors=[a_color, b_color], autopct=make_autopct(values))"
   ]
  },
  {
   "cell_type": "code",
   "execution_count": 5,
   "metadata": {},
   "outputs": [],
   "source": [
    "# # \n",
    "# filename = ''\n",
    "# a = 7\n",
    "# b = 21\n",
    "# a_label = ''\n",
    "# b_label = ''\n",
    "# a_color = '#C8EFCE'  # white\n",
    "# b_color = '#006100'  # light green\n",
    "\n",
    "# pieplot(filename, a, b, a_label, b_label, a_color, b_color)"
   ]
  },
  {
   "cell_type": "markdown",
   "metadata": {},
   "source": [
    "# Second datas"
   ]
  },
  {
   "cell_type": "markdown",
   "metadata": {},
   "source": [
    "## Functions for second type"
   ]
  },
  {
   "cell_type": "code",
   "execution_count": 15,
   "metadata": {},
   "outputs": [],
   "source": [
    "def csv_to_dic(csv_file):\n",
    "\t'''\n",
    "\tFunzione che inserisce i dati dei csv delle buy responses in un dizionario \n",
    "\t\t{burger_type: { buy_response : occurrences }, ... }\n",
    "\tformattando il tutto\n",
    "\t'''\n",
    "\n",
    "\t# Given a series/column, makes a dic {answer : counts}\n",
    "\tdef occurrences_dic(column):\n",
    "\t\treturn column.value_counts().to_dict()\n",
    "\n",
    "\t# Load the CSV file into a DataFrame\n",
    "\tdf = pd.read_csv(csv_file)\n",
    "\n",
    "\t# Counts the columns\n",
    "\tn_columns = len(df.columns)\n",
    "\n",
    "\t# Initialize the dictionary\n",
    "\tdic = {}\n",
    "\n",
    "\t# Iterates for every column of the csv\n",
    "\tfor column in range(n_columns):\n",
    "\n",
    "\t\t# Selects only the current column\n",
    "\t\tsel_column = df.iloc[:, column]\n",
    "\t\t\n",
    "\t\t# If the csv is a \"buy type\" (the ones with more than one column)\n",
    "\t\tif n_columns != 1:\n",
    "\n",
    "\t\t\t# Get and format the header\n",
    "\t\t\theader = sel_column.name\n",
    "\t\t\theader = header[-3:-1] # Write [-2:-1] for only the letter\n",
    "\n",
    "\t\t\t# Makes dic {answer : counts}\n",
    "\t\t\toccurrences = occurrences_dic(sel_column)\n",
    "\t\t\tdic[header] = occurrences\n",
    "\t\t\n",
    "\t\t# If the csv is a \"prefer type\" (the ones with only one column)\n",
    "\t\telse:\n",
    "\t\t\tdic = occurrences_dic(sel_column)\n",
    "\n",
    "\treturn dic"
   ]
  },
  {
   "cell_type": "code",
   "execution_count": null,
   "metadata": {},
   "outputs": [],
   "source": [
    "def gather_buy_responses(dic, buy_categories):\n",
    "\t'''\n",
    "\tFunzione che a partire da un dizionario\n",
    "\t\t{ buy_response : occurrences, ... }\n",
    "\te da una lista contenente categorie di buy responses ordinate dalla più negativa alla più positiva\n",
    "\t\t[ [buy_response-1, buy_response-2], [buy_response-3], ... ]\n",
    "\trestituisce un dizionario con:\n",
    "\t\tchiavi -> le buy_responses raggruppate per categoria\n",
    "\t\tvalori -> i conteggi di quella categoria di buy_responses\n",
    "\t'''\n",
    "\tsr = pd.Series(dic)\n",
    "\n",
    "\tnum_categories = len(buy_categories)\n",
    "\n",
    "\tgathered_categories = {}\n",
    "\tfor cat in range(num_categories):\n",
    "\n",
    "\t\tsum = sr.loc[buy_categories[cat]].sum()\n",
    "\t\tgathered_categories['cat_' + str(cat+1)] = sum\n",
    "\n",
    "\treturn gathered_categories"
   ]
  },
  {
   "cell_type": "code",
   "execution_count": 7,
   "metadata": {},
   "outputs": [],
   "source": [
    "def pieplot_second(data, a_color, b_color, c_color):\n",
    "\t'''Crea un pieplot per ...'''\n",
    "\t# Definizione dati\n",
    "\tlabels = data.keys()\n",
    "\tvalues = data.values()\n",
    "\n",
    "\t# Calcola la percentuale\n",
    "\tdef make_autopct(values):\n",
    "\t\tdef my_autopct(pct):\n",
    "\t\t\ttotal = sum(values)\n",
    "\t\t\tval = int(round(pct*total/100.0))\n",
    "\t\t\treturn '{p:.1f}%  ({v:d})'.format(p=pct,v=val)\n",
    "\t\treturn my_autopct\n",
    "\n",
    "\t# Crea il pieplot\n",
    "\tplt.pie(values, labels = labels, colors=[a_color, b_color, c_color], autopct=make_autopct(values))"
   ]
  },
  {
   "cell_type": "code",
   "execution_count": 8,
   "metadata": {},
   "outputs": [],
   "source": [
    "# def barplot_second(data, a_color, b_color, c_color):"
   ]
  },
  {
   "cell_type": "markdown",
   "metadata": {},
   "source": [
    "## Diets (personal info)"
   ]
  },
  {
   "cell_type": "code",
   "execution_count": 9,
   "metadata": {},
   "outputs": [],
   "source": [
    "a_color = '#801818' # \n",
    "b_color = '#004225' # \n",
    "c_color = '#AD2624' # "
   ]
  },
  {
   "cell_type": "code",
   "execution_count": 10,
   "metadata": {},
   "outputs": [
    {
     "name": "stdout",
     "output_type": "stream",
     "text": [
      "{'Omnivore or other': 36, 'Vegetarian': 5}\n"
     ]
    },
    {
     "data": {
      "image/png": "[encoded data removed]",
      "text/plain": [
       "<Figure size 640x480 with 1 Axes>"
      ]
     },
     "metadata": {},
     "output_type": "display_data"
    }
   ],
   "source": [
    "diet = csv_to_dic('data/second_type/diet.csv')\n",
    "\n",
    "print(diet)\n",
    "\n",
    "pieplot_second(diet, a_color, b_color, c_color)"
   ]
  },
  {
   "cell_type": "markdown",
   "metadata": {},
   "source": [
    "## Burger samples (sensory analysis)"
   ]
  },
  {
   "cell_type": "markdown",
   "metadata": {},
   "source": [
    "### Fixed values for buy preferences barplots"
   ]
  },
  {
   "cell_type": "code",
   "execution_count": 11,
   "metadata": {},
   "outputs": [],
   "source": [
    "a_color = '#801818' # \n",
    "b_color = '#003250' # \n",
    "c_color = '#AD2624' # \n",
    "d_color = '#004225' # \n",
    "e_color = '#800020' #\n",
    "colors = [a_color, b_color, c_color, d_color, e_color] "
   ]
  },
  {
   "cell_type": "code",
   "execution_count": 12,
   "metadata": {},
   "outputs": [
    {
     "name": "stdout",
     "output_type": "stream",
     "text": [
      "{'1A': {'Certainly would buy': 15, 'Probably would buy': 14, 'Maybe would buy': 5, 'Probably would not buy': 4, 'Certainly would not buy': 3}, '1B': {'Probably would buy': 13, 'Maybe would buy': 13, 'Probably would not buy': 7, 'Certainly would buy': 6, 'Certainly would not buy': 2}}\n"
     ]
    }
   ],
   "source": [
    "current = csv_to_dic('data/second_type/sample_1-buy.csv')\n",
    "\n",
    "print(current)"
   ]
  },
  {
   "cell_type": "code",
   "execution_count": 17,
   "metadata": {},
   "outputs": [
    {
     "ename": "AttributeError",
     "evalue": "'str' object has no attribute 'items'",
     "output_type": "error",
     "traceback": [
      "\u001b[0;31m---------------------------------------------------------------------------\u001b[0m",
      "\u001b[0;31mAttributeError\u001b[0m                            Traceback (most recent call last)",
      "\u001b[1;32m/home/ag8l/Documents/Mida/tesi-mida/plots/mpl/pies/plots_pie.ipynb Cell 19\u001b[0m line \u001b[0;36m2\n\u001b[1;32m     <a href='vscode-notebook-cell:/home/ag8l/Documents/Mida/tesi-mida/plots/mpl/pies/plots_pie.ipynb#X24sZmlsZQ%3D%3D?line=12'>13</a>\u001b[0m \t\t\u001b[39mprint\u001b[39m(dic\u001b[39m.\u001b[39mitems())\n\u001b[1;32m     <a href='vscode-notebook-cell:/home/ag8l/Documents/Mida/tesi-mida/plots/mpl/pies/plots_pie.ipynb#X24sZmlsZQ%3D%3D?line=13'>14</a>\u001b[0m \t\t\u001b[39m# barplot = sns.barplot(x=x, y=y, errorbar=None)\u001b[39;00m\n\u001b[1;32m     <a href='vscode-notebook-cell:/home/ag8l/Documents/Mida/tesi-mida/plots/mpl/pies/plots_pie.ipynb#X24sZmlsZQ%3D%3D?line=14'>15</a>\u001b[0m \n\u001b[1;32m     <a href='vscode-notebook-cell:/home/ag8l/Documents/Mida/tesi-mida/plots/mpl/pies/plots_pie.ipynb#X24sZmlsZQ%3D%3D?line=15'>16</a>\u001b[0m \t\t\u001b[39m# for bar, color in zip(barplot.patches, colors):\u001b[39;00m\n\u001b[0;32m   (...)\u001b[0m\n\u001b[1;32m     <a href='vscode-notebook-cell:/home/ag8l/Documents/Mida/tesi-mida/plots/mpl/pies/plots_pie.ipynb#X24sZmlsZQ%3D%3D?line=23'>24</a>\u001b[0m \t\t\u001b[39m# plt.show()\u001b[39;00m\n\u001b[1;32m     <a href='vscode-notebook-cell:/home/ag8l/Documents/Mida/tesi-mida/plots/mpl/pies/plots_pie.ipynb#X24sZmlsZQ%3D%3D?line=24'>25</a>\u001b[0m \t\t\u001b[39m# # plt.close\u001b[39;00m\n\u001b[0;32m---> <a href='vscode-notebook-cell:/home/ag8l/Documents/Mida/tesi-mida/plots/mpl/pies/plots_pie.ipynb#X24sZmlsZQ%3D%3D?line=26'>27</a>\u001b[0m barplot_second(current, colors)\n",
      "\u001b[1;32m/home/ag8l/Documents/Mida/tesi-mida/plots/mpl/pies/plots_pie.ipynb Cell 19\u001b[0m line \u001b[0;36m1\n\u001b[1;32m      <a href='vscode-notebook-cell:/home/ag8l/Documents/Mida/tesi-mida/plots/mpl/pies/plots_pie.ipynb#X24sZmlsZQ%3D%3D?line=8'>9</a>\u001b[0m x \u001b[39m=\u001b[39m data[dic]\u001b[39m.\u001b[39mkeys()\n\u001b[1;32m     <a href='vscode-notebook-cell:/home/ag8l/Documents/Mida/tesi-mida/plots/mpl/pies/plots_pie.ipynb#X24sZmlsZQ%3D%3D?line=9'>10</a>\u001b[0m y \u001b[39m=\u001b[39m data[dic]\u001b[39m.\u001b[39mvalues()\n\u001b[0;32m---> <a href='vscode-notebook-cell:/home/ag8l/Documents/Mida/tesi-mida/plots/mpl/pies/plots_pie.ipynb#X24sZmlsZQ%3D%3D?line=12'>13</a>\u001b[0m \u001b[39mprint\u001b[39m(dic\u001b[39m.\u001b[39;49mitems())\n",
      "\u001b[0;31mAttributeError\u001b[0m: 'str' object has no attribute 'items'"
     ]
    }
   ],
   "source": [
    "def barplot_second(data, colors):\n",
    "\n",
    "\tfor dic in data:\n",
    "\t\t# burger_type is like 1A, 1B, 2A, 2B, etc...\n",
    "\t\tburger_type = dic\n",
    "\t\t\n",
    "\t\t# Gathers responses into positive, negative, etc...\n",
    "\n",
    "\t\tx = data[dic].keys()\n",
    "\t\ty = data[dic].values()\n",
    "\n",
    "\n",
    "\t\tprint(dic.items())\n",
    "\t\t# barplot = sns.barplot(x=x, y=y, errorbar=None)\n",
    "\n",
    "\t\t# for bar, color in zip(barplot.patches, colors):\n",
    "\t\t# \tbar.set_color(color)\n",
    "\t\t# \tbar.set_edgecolor('#000000')\n",
    "\t\t# \tbar.set_linewidth(1)\n",
    "\n",
    "\t\t# plt.ylabel('Number of reponses')\n",
    "\n",
    "\t\t# # plt.savefig('outs/' + burger_type + '.pdf', format=\"pdf\")\n",
    "\t\t# plt.show()\n",
    "\t\t# # plt.close\n",
    "\n",
    "barplot_second(current, colors)"
   ]
  },
  {
   "cell_type": "markdown",
   "metadata": {},
   "source": [
    "### Sample 1"
   ]
  },
  {
   "cell_type": "code",
   "execution_count": null,
   "metadata": {},
   "outputs": [],
   "source": []
  },
  {
   "cell_type": "markdown",
   "metadata": {},
   "source": [
    "### Sample 2"
   ]
  },
  {
   "cell_type": "code",
   "execution_count": null,
   "metadata": {},
   "outputs": [],
   "source": []
  },
  {
   "cell_type": "markdown",
   "metadata": {},
   "source": [
    "### Sample 3"
   ]
  },
  {
   "cell_type": "code",
   "execution_count": null,
   "metadata": {},
   "outputs": [],
   "source": []
  }
 ],
 "metadata": {
  "language_info": {
   "name": "python"
  }
 },
 "nbformat": 4,
 "nbformat_minor": 2
}

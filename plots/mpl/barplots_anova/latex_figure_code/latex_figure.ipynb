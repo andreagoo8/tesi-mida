{
 "cells": [
  {
   "cell_type": "markdown",
   "metadata": {},
   "source": [
    "# Write the code of the latex figure for all the barplots"
   ]
  },
  {
   "cell_type": "code",
   "execution_count": 1,
   "metadata": {},
   "outputs": [],
   "source": [
    "import pickle"
   ]
  },
  {
   "cell_type": "markdown",
   "metadata": {},
   "source": [
    "## Values declaration"
   ]
  },
  {
   "cell_type": "code",
   "execution_count": 2,
   "metadata": {},
   "outputs": [],
   "source": [
    "# Loads algae names\n",
    "with open('../../fixed_values-pickles/pickle_files/algae_names.pkl', 'rb') as fp:\n",
    "\talgae_names = pickle.load(fp)\n",
    "\n",
    "# Loads content types (ashes, moisture, ...)\n",
    "with open('../../fixed_values-pickles/pickle_files/content_types.pkl', 'rb') as fp:\n",
    "\tcontent_types = pickle.load(fp)\n",
    "\n",
    "# subfig_title_label = '\\t{{{content_type_cap} bla\\\\label{{subfig:{alga}_{content_type}}}%'\n",
    "subfig_caption = '{content_type} bla'\n",
    "subfig_label = 'subfig:{alga}_{content_type}'\n",
    "\n",
    "images_dimension = 'width=0.5\\\\textwidth'\n",
    "imgs_filename = '{alga}_{content_type}.pdf'\n",
    "\n",
    "hspace_btw_subfigs = '\\\\hfill'\n",
    "vspace_btw_rows = '2ex'\n",
    "\n",
    "fig_caption = '{alga} bla'\n",
    "fig_label = 'fig:{alga}bla'"
   ]
  },
  {
   "cell_type": "markdown",
   "metadata": {},
   "source": [
    "## THE loop"
   ]
  },
  {
   "cell_type": "code",
   "execution_count": 3,
   "metadata": {},
   "outputs": [],
   "source": [
    "for alga in algae_names.values():\n",
    "\n",
    "\twith open('subcaptionbox.tex', 'r') as infile, open('latex_figure_code-outs/' + alga + '-barplot_anova.tex', 'w') as outfile:\n",
    "\t\tfor row in infile:\n",
    "\n",
    "\t\t\t# Caption and label\n",
    "\t\t\tif row.startswith('\\t{'):\n",
    "\t\t\t\tcontent_type = content_types[row[2:6]]\n",
    "\t\t\t\t# outfile.write( subfig_title_label.format(content_type_cap = content_type.capitalize(), alga = alga, content_type = content_type) + '}\\n' )\n",
    "\t\t\t\toutfile.write('\\t{' + \\\n",
    "\t\t\t\t\t\t\t\tsubfig_caption.format(content_type=content_type.capitalize()) + \\\n",
    "\t\t\t\t\t\t\t\t'\\\\label{' + \\\n",
    "\t\t\t\t\t\t\t\tsubfig_label.format(alga = alga, content_type = content_type) + \\\n",
    "\t\t\t\t\t\t\t\t'}}%\\n'\n",
    "\t\t\t\t\t\t\t\t)\n",
    "\t\t\t\n",
    "\t\t\t# Images dimensions and add filename\n",
    "\t\t\telif row.startswith('\\t\\t{\\\\includegraphics['):\n",
    "\t\t\t\toutfile.write(\t'\\t\\t{\\\\includegraphics[' + \\\n",
    "\t\t\t\t\t\t\t\timages_dimension + \\\n",
    "\t\t\t\t\t\t\t\t']{../plots/mpl/barplots_anova/barplots/barplots-outs/' + \\\n",
    "\t\t\t\t\t\t\t\timgs_filename.format(alga=alga, content_type=content_type) + \\\n",
    "\t\t\t\t\t\t\t\t'}}%\\n' \\\n",
    "\t\t\t\t\t\t\t\t)\n",
    "\n",
    "\t\t\t# Horizontal space between subfigures\n",
    "\t\t\telif row.startswith('\\\\hfill'):\n",
    "\t\t\t\toutfile.write( hspace_btw_subfigs + '\\n' )\n",
    "\n",
    "\t\t\t# Vertical space between rows\n",
    "\t\t\telif row.startswith('\\\\\\\\['):\n",
    "\t\t\t\toutfile.write( '\\\\\\\\[' + vspace_btw_rows + ']\\n' )\n",
    "\t\t\t\n",
    "\t\t\t# Figure caption\n",
    "\t\t\telif row.startswith('{}'):\n",
    "\t\t\t\toutfile.write( '{' + fig_caption.format(alga = alga.capitalize()) + '}\\n' )\n",
    "\n",
    "\t\t\t# Figure label\n",
    "\t\t\telif row.startswith('\\\\label{fig:}'):\n",
    "\t\t\t\toutfile.write( '\\\\label{' + fig_label.format(alga = alga) + '}\\n' )\n",
    "\n",
    "\t\t\t# Non-variable lines\n",
    "\t\t\telse:\n",
    "\t\t\t\toutfile.write( row )"
   ]
  }
 ],
 "metadata": {
  "language_info": {
   "name": "python"
  }
 },
 "nbformat": 4,
 "nbformat_minor": 2
}

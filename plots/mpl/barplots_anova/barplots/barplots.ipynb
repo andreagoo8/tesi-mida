{
 "cells": [
  {
   "cell_type": "markdown",
   "metadata": {},
   "source": [
    "# \"Under the hood\""
   ]
  },
  {
   "cell_type": "code",
   "execution_count": 1,
   "metadata": {},
   "outputs": [],
   "source": [
    "import pickle\n",
    "import matplotlib.pyplot as plt\n",
    "import numpy as np\n",
    "import seaborn as sns\n",
    "\n",
    "sns.set_style(\"darkgrid\")\n"
   ]
  },
  {
   "cell_type": "code",
   "execution_count": 2,
   "metadata": {},
   "outputs": [],
   "source": [
    "# Font setting\n",
    "\n",
    "import matplotlib.font_manager as font_manager\n",
    "\n",
    "font_path = '../../Minion3/Minion3-Regular.ttf'  # Your font path goes here\n",
    "font_manager.fontManager.addfont(font_path)\n",
    "prop = font_manager.FontProperties(fname=font_path)\n",
    "\n",
    "plt.rcParams['font.family'] = 'serif'\n",
    "plt.rcParams['font.serif'] = prop.get_name()"
   ]
  },
  {
   "cell_type": "code",
   "execution_count": 3,
   "metadata": {},
   "outputs": [],
   "source": [
    "def barplots_ANOVA(filename, x, y, errors, xlabel, ylabel, content_type, control_color, data_color):\n",
    "\t\n",
    "\t# Crea il barplot\n",
    "\tbarplot = sns.barplot(x=x, y=y, errorbar=None)  # ci=None disables confidence intervals\n",
    "\tplt.errorbar(x=x, y=y, yerr=errors, fmt='none', ecolor='black', capsize=5)\n",
    "\n",
    "\n",
    "\t# Toglie il bordo superiore e destro\n",
    "\t# sns.despine(left=False, bottom=False)\n",
    "\n",
    "\t# Imposta il colore della prima barra e delle successive\n",
    "\tcolors = [control_color] + [data_color] * (len(xs) - 1)\n",
    "\n",
    "\tfor bar, color in zip(barplot.patches, colors):\n",
    "\t\tbar.set_color(color)\n",
    "\t\tbar.set_edgecolor('#000000')\n",
    "\t\tbar.set_linewidth(1)\n",
    "\n",
    "\t# Label assi\n",
    "\tplt.xlabel(xlabel)\n",
    "\tplt.ylabel(ylabel + content_type)\n",
    "\n",
    "\tplt.savefig('barplots-outs/' + filename + '.pdf', format=\"pdf\", bbox_inches='tight',pad_inches = 0)\n",
    "\tplt.close()"
   ]
  },
  {
   "cell_type": "markdown",
   "metadata": {},
   "source": [
    "# Let's go"
   ]
  },
  {
   "cell_type": "markdown",
   "metadata": {},
   "source": [
    "### Fixed values for all plots"
   ]
  },
  {
   "cell_type": "code",
   "execution_count": 4,
   "metadata": {},
   "outputs": [],
   "source": [
    "# Loads algae names\n",
    "with open('../../fixed_values-pickles/pickle_files/algae_names.pkl', 'rb') as fp:\n",
    "\talgae_names = pickle.load(fp)\n",
    "\n",
    "# Loads content types (ashes, moisture, ...)\n",
    "with open('../../fixed_values-pickles/pickle_files/content_types.pkl', 'rb') as fp:\n",
    "\tcontent_types = pickle.load(fp)\n",
    "\n",
    "control_color = '#FFFFFF' # white\n",
    "xlabel = 'Burger type'\n",
    "ylabel = 'Percentage of '\n",
    "\n",
    "def get_contenttype(in_ct):\n",
    "\tcontent_type = content_types[in_ct]\n",
    "\treturn content_type\n",
    "\n",
    "def set_filename(alga, ct):\n",
    "\tfilename = alga + '_' + ct\n",
    "\treturn filename"
   ]
  },
  {
   "cell_type": "markdown",
   "metadata": {},
   "source": [
    "## Spirulina"
   ]
  },
  {
   "cell_type": "markdown",
   "metadata": {},
   "source": [
    "### Fixed values for Spirulina"
   ]
  },
  {
   "cell_type": "code",
   "execution_count": 5,
   "metadata": {},
   "outputs": [],
   "source": [
    "alga_name = algae_names['spir']\n",
    "data_color = '#C5E1A5'\n",
    "xs = ['C', '4%', '6%', '8%']"
   ]
  },
  {
   "cell_type": "markdown",
   "metadata": {},
   "source": [
    "### Plots of Spirulina"
   ]
  },
  {
   "cell_type": "code",
   "execution_count": 6,
   "metadata": {},
   "outputs": [],
   "source": [
    "# ashes\n",
    "content_type = get_contenttype('ashs')\n",
    "filename = set_filename(alga_name, content_type)\n",
    "\n",
    "# data\n",
    "ys = [4.20425, 5.3402, 6.87655, 7.4671]\n",
    "errors = [0.14805, 0.4143, 0.17015, 0.0853]\n",
    "\n",
    "# Plot the barplot with the specified colors\n",
    "barplots_ANOVA(filename, xs, ys, errors, xlabel, ylabel, content_type, control_color, data_color)"
   ]
  },
  {
   "cell_type": "code",
   "execution_count": 7,
   "metadata": {},
   "outputs": [],
   "source": [
    "# moisture\n",
    "content_type = get_contenttype('mois')\n",
    "filename = set_filename(alga_name, content_type)\n",
    "\n",
    "# data\n",
    "ys = [55.75, 45.5, 46, 46.25]\n",
    "errors = [0.25, 0.5, 0.5, 1.25]\n",
    "\n",
    "# Plot the barplot with the specified colors\n",
    "barplots_ANOVA(filename, xs, ys, errors, xlabel, ylabel, content_type, control_color, data_color)"
   ]
  },
  {
   "cell_type": "code",
   "execution_count": 8,
   "metadata": {},
   "outputs": [],
   "source": [
    "# lipids\n",
    "content_type = get_contenttype('lips')\n",
    "filename = set_filename(alga_name, content_type)\n",
    "\n",
    "# data\n",
    "ys = [22.8, 24.1667, 24.19525, 22.68095]\n",
    "errors = [1.0191, 1.3381, 1.27145, 0.31905]\n",
    "\n",
    "# Plot the barplot with the specified colors\n",
    "barplots_ANOVA(filename, xs, ys, errors, xlabel, ylabel, content_type, control_color, data_color)"
   ]
  },
  {
   "cell_type": "code",
   "execution_count": 9,
   "metadata": {},
   "outputs": [],
   "source": [
    "# proteins\n",
    "content_type = get_contenttype('prot')\n",
    "filename = set_filename(alga_name, content_type)\n",
    "\n",
    "# data\n",
    "ys = [13.35595, 15.3191, 16.34925, 18.64665]\n",
    "errors = [0.66425, 0.4558, 0.13555, 0.12525]\n",
    "\n",
    "# Plot the barplot with the specified colors\n",
    "barplots_ANOVA(filename, xs, ys, errors, xlabel, ylabel, content_type, control_color, data_color)"
   ]
  },
  {
   "cell_type": "markdown",
   "metadata": {},
   "source": [
    "## Chlorella"
   ]
  },
  {
   "cell_type": "markdown",
   "metadata": {},
   "source": [
    "### Fixed values for Chlorella"
   ]
  },
  {
   "cell_type": "code",
   "execution_count": 10,
   "metadata": {},
   "outputs": [],
   "source": [
    "alga_name = algae_names['chlo']\n",
    "data_color = '#FFF9C4'\n",
    "xs = ['C', '4%', '8%', '12%']"
   ]
  },
  {
   "cell_type": "markdown",
   "metadata": {},
   "source": [
    "### Plots of Chlorella"
   ]
  },
  {
   "cell_type": "code",
   "execution_count": 11,
   "metadata": {},
   "outputs": [],
   "source": [
    "# ashes\n",
    "content_type = get_contenttype('ashs')\n",
    "filename = set_filename(alga_name, content_type)\n",
    "\n",
    "# data\n",
    "ys = [4.68205, 4.2273, 3.8066, 3.88315]\n",
    "errors = [0.01235, 0.1591, 0.135, 0.10945]\n",
    "\n",
    "# Plot the barplot with the specified colors\n",
    "barplots_ANOVA(filename, xs, ys, errors, xlabel, ylabel, content_type, control_color, data_color)"
   ]
  },
  {
   "cell_type": "code",
   "execution_count": 12,
   "metadata": {},
   "outputs": [],
   "source": [
    "# moisture\n",
    "content_type = get_contenttype('mois')\n",
    "filename = set_filename(alga_name, content_type)\n",
    "\n",
    "# data\n",
    "ys = [45.75, 34, 32.25, 31.75]\n",
    "errors = [0.25, 0, 0.75, 0.25]\n",
    "\n",
    "# Plot the barplot with the specified colors\n",
    "barplots_ANOVA(filename, xs, ys, errors, xlabel, ylabel, content_type, control_color, data_color)"
   ]
  },
  {
   "cell_type": "code",
   "execution_count": 13,
   "metadata": {},
   "outputs": [],
   "source": [
    "# lipids\n",
    "content_type = get_contenttype('lips')\n",
    "filename = set_filename(alga_name, content_type)\n",
    "\n",
    "# data\n",
    "ys = [23.84765, 22.09045, 24.49815, 21.9833]\n",
    "errors = [0.21905, 0.16665, 1.13515, 0.65]\n",
    "\n",
    "# Plot the barplot with the specified colors\n",
    "barplots_ANOVA(filename, xs, ys, errors, xlabel, ylabel, content_type, control_color, data_color)"
   ]
  },
  {
   "cell_type": "code",
   "execution_count": 14,
   "metadata": {},
   "outputs": [],
   "source": [
    "# proteins\n",
    "content_type = get_contenttype('prot')\n",
    "filename = set_filename(alga_name, content_type)\n",
    "\n",
    "# data\n",
    "ys = [13.4627, 14.3946, 14.47265, 13.8802]\n",
    "errors = [0.0781, 0.2306, 0.31805, 0.06]\n",
    "\n",
    "# Plot the barplot with the specified colors\n",
    "barplots_ANOVA(filename, xs, ys, errors, xlabel, ylabel, content_type, control_color, data_color)"
   ]
  },
  {
   "cell_type": "markdown",
   "metadata": {},
   "source": [
    "## Palmaria"
   ]
  },
  {
   "cell_type": "markdown",
   "metadata": {},
   "source": [
    "### Fixed values for Palmaria"
   ]
  },
  {
   "cell_type": "code",
   "execution_count": 15,
   "metadata": {},
   "outputs": [],
   "source": [
    "alga_name = algae_names['palm']\n",
    "data_color = '#F7CBDA'\n",
    "xs = ['C', '1.5%', '3%']"
   ]
  },
  {
   "cell_type": "markdown",
   "metadata": {},
   "source": [
    "### Plots of Palmaria"
   ]
  },
  {
   "cell_type": "code",
   "execution_count": 16,
   "metadata": {},
   "outputs": [],
   "source": [
    "# ashes\n",
    "content_type = get_contenttype('ashs')\n",
    "filename = set_filename(alga_name, content_type)\n",
    "\n",
    "# data\n",
    "ys = [3.6273, 3.77575, 4.8182]\n",
    "errors = [0.0717, 0.00655, 0.157]\n",
    "\n",
    "# Plot the barplot with the specified colors\n",
    "barplots_ANOVA(filename, xs, ys, errors, xlabel, ylabel, content_type, control_color, data_color)"
   ]
  },
  {
   "cell_type": "code",
   "execution_count": 17,
   "metadata": {},
   "outputs": [],
   "source": [
    "# moisture\n",
    "content_type = get_contenttype('mois')\n",
    "filename = set_filename(alga_name, content_type)\n",
    "\n",
    "# data\n",
    "ys = [47.25, 36.5, 39.5]\n",
    "errors = [1.25, 1.5, 0]\n",
    "\n",
    "# Plot the barplot with the specified colors\n",
    "barplots_ANOVA(filename, xs, ys, errors, xlabel, ylabel, content_type, control_color, data_color)"
   ]
  },
  {
   "cell_type": "code",
   "execution_count": 18,
   "metadata": {},
   "outputs": [],
   "source": [
    "# lipids\n",
    "content_type = get_contenttype('lips')\n",
    "filename = set_filename(alga_name, content_type)\n",
    "\n",
    "# data\n",
    "ys = [22.2, 18.32225, 18.03335]\n",
    "errors = [1.3905, 0.23335, 0.14445]\n",
    "\n",
    "# Plot the barplot with the specified colors\n",
    "barplots_ANOVA(filename, xs, ys, errors, xlabel, ylabel, content_type, control_color, data_color)"
   ]
  },
  {
   "cell_type": "code",
   "execution_count": 19,
   "metadata": {},
   "outputs": [],
   "source": [
    "# proteins\n",
    "content_type = get_contenttype('prot')\n",
    "filename = set_filename(alga_name, content_type)\n",
    "\n",
    "# data\n",
    "ys = [14.8248, 13.18845, 12.84235]\n",
    "errors = [0.0002, 0.61475, 0.09935]\n",
    "\n",
    "# Plot the barplot with the specified colors\n",
    "barplots_ANOVA(filename, xs, ys, errors, xlabel, ylabel, content_type, control_color, data_color)"
   ]
  }
 ],
 "metadata": {
  "kernelspec": {
   "display_name": "ds-latests",
   "language": "python",
   "name": "python3"
  },
  "language_info": {
   "codemirror_mode": {
    "name": "ipython",
    "version": 3
   },
   "file_extension": ".py",
   "mimetype": "text/x-python",
   "name": "python",
   "nbconvert_exporter": "python",
   "pygments_lexer": "ipython3",
   "version": "3.12.4"
  }
 },
 "nbformat": 4,
 "nbformat_minor": 2
}

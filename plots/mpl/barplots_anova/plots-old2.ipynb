{
 "cells": [
  {
   "cell_type": "markdown",
   "metadata": {},
   "source": [
    "# \"Under the hood\""
   ]
  },
  {
   "cell_type": "code",
   "execution_count": 1,
   "metadata": {},
   "outputs": [],
   "source": [
    "import matplotlib.pyplot as plt\n",
    "import numpy as np\n",
    "import seaborn as sns\n",
    "\n",
    "sns.set_style(\"darkgrid\")"
   ]
  },
  {
   "cell_type": "code",
   "execution_count": 2,
   "metadata": {},
   "outputs": [],
   "source": [
    "def barplots_ANOVA(filename, x, y, errors, xlabel, ylabel, content_type, control_color, data_color):\n",
    "\n",
    "# Crea il barplot\n",
    "barplot = sns.barplot(x=x, y=y, errorbar=None)  # ci=None disables confidence intervals\n",
    "plt.errorbar(x=x, y=y, yerr=errors, fmt='none', ecolor='black', capsize=5)\n",
    "\n",
    "\n",
    "# Toglie il bordo superiore e destro\n",
    "# sns.despine(left=False, bottom=False)\n",
    "\n",
    "# Imposta il colore della prima barra e delle successive\n",
    "colors = [control_color] + [data_color] * (len(xs) - 1)\n",
    "\n",
    "for bar, color in zip(barplot.patches, colors):\n",
    "  bar.set_color(color)\n",
    "  bar.set_edgecolor('#000000')\n",
    "  bar.set_linewidth(1)\n",
    "\n",
    "# Label assi\n",
    "plt.xlabel(xlabel)\n",
    "plt.ylabel(ylabel + content_type)\n",
    "\n",
    "plt.savefig('barplots_outs/'+filename+'.pdf', format=\"pdf\")"
   ]
  },
  {
   "cell_type": "markdown",
   "metadata": {},
   "source": [
    "# Let's go"
   ]
  },
  {
   "cell_type": "markdown",
   "metadata": {},
   "source": [
    "### Fixed values for all plots"
   ]
  },
  {
   "cell_type": "code",
   "execution_count": 3,
   "metadata": {},
   "outputs": [],
   "source": [
    "content_types = {'ash' : 'ashes', 'moisture' : 'moisture', 'lipids' : 'lipids', 'proteins' : 'proteins'}\n",
    "control_color = '#FFFFFF' # white\n",
    "xlabel = 'Burger type'\n",
    "ylabel = 'Percentage of '"
   ]
  },
  {
   "cell_type": "markdown",
   "metadata": {},
   "source": [
    "## Spirulina"
   ]
  },
  {
   "cell_type": "markdown",
   "metadata": {},
   "source": [
    "### Fixed values for Spirulina"
   ]
  },
  {
   "cell_type": "code",
   "execution_count": 4,
   "metadata": {},
   "outputs": [],
   "source": [
    "alga_name = 'spirulina'\n",
    "data_color = '#C6EFCE'\n",
    "xs = ['C', '4%', '6%', '8%']"
   ]
  },
  {
   "cell_type": "markdown",
   "metadata": {},
   "source": [
    "### Plots of Spirulina"
   ]
  },
  {
   "cell_type": "code",
   "execution_count": 9,
   "metadata": {},
   "outputs": [
    {
     "ename": "TypeError",
     "evalue": "barplots_ANOVA() missing 1 required positional argument: 'data_color'",
     "output_type": "error",
     "traceback": [
      "\u001b[0;31m---------------------------------------------------------------------------\u001b[0m",
      "\u001b[0;31mTypeError\u001b[0m                                 Traceback (most recent call last)",
      "\u001b[1;32m/home/ag8l/Documents/Mida/plots/mpl-tesimartina/barplots_anova/plots_wow.ipynb Cell 11\u001b[0m line \u001b[0;36m1\n\u001b[1;32m      <a href='vscode-notebook-cell:/home/ag8l/Documents/Mida/plots/mpl-tesimartina/barplots_anova/plots_wow.ipynb#X44sZmlsZQ%3D%3D?line=7'>8</a>\u001b[0m data_color \u001b[39m=\u001b[39m \u001b[39m'\u001b[39m\u001b[39m#C6EFCE\u001b[39m\u001b[39m'\u001b[39m\n\u001b[1;32m     <a href='vscode-notebook-cell:/home/ag8l/Documents/Mida/plots/mpl-tesimartina/barplots_anova/plots_wow.ipynb#X44sZmlsZQ%3D%3D?line=9'>10</a>\u001b[0m \u001b[39m# Plot the barplot with the specified colors\u001b[39;00m\n\u001b[0;32m---> <a href='vscode-notebook-cell:/home/ag8l/Documents/Mida/plots/mpl-tesimartina/barplots_anova/plots_wow.ipynb#X44sZmlsZQ%3D%3D?line=10'>11</a>\u001b[0m barplots_ANOVA(filename, xs, ys, errors, xlabel, ylabel, control_color, data_color)\n",
      "\u001b[0;31mTypeError\u001b[0m: barplots_ANOVA() missing 1 required positional argument: 'data_color'"
     ]
    }
   ],
   "source": [
    "# ashes\n",
    "filename = alga_name + '_' + content_types['ash']\n",
    "\n",
    "# data\n",
    "ys = [4.20425, 5.3402, 6.87655, 7.4671]\n",
    "errors = [0.14805, 0.4143, 0.17015, 0.0853]\n",
    "\n",
    "# Plot the barplot with the specified colors\n",
    "barplots_ANOVA(filename, xs, ys, errors, xlabel, ylabel, control_color, data_color)"
   ]
  },
  {
   "cell_type": "code",
   "execution_count": null,
   "metadata": {},
   "outputs": [],
   "source": [
    "# moisture\n",
    "filename = alga_name + '_' + content_types['moisture']\n",
    "\n",
    "# data\n",
    "ys = [55.75, 45.5, 46, 46.25]\n",
    "errors = [0.25, 0.5, 0.5, 1.25]\n",
    "\n",
    "# Plot the barplot with the specified colors\n",
    "barplots_ANOVA(filename, xs, ys, errors, xlabel, ylabel, control_color, data_color)"
   ]
  },
  {
   "cell_type": "code",
   "execution_count": null,
   "metadata": {},
   "outputs": [],
   "source": [
    "# lipids\n",
    "filename = alga_name + '_' + content_types['lipids']\n",
    "\n",
    "# data\n",
    "ys = [22.8, 24.1667, 24.19525, 22.68095]\n",
    "errors = [1.0191, 1.3381, 1.27145, 0.31905]\n",
    "\n",
    "# Plot the barplot with the specified colors\n",
    "barplots_ANOVA(filename, xs, ys, errors, xlabel, ylabel, control_color, data_color)"
   ]
  },
  {
   "cell_type": "code",
   "execution_count": null,
   "metadata": {},
   "outputs": [],
   "source": [
    "# proteins\n",
    "filename = alga_name + '_' + content_types['proteins']\n",
    "\n",
    "# data\n",
    "ys = [13.35595, 15.3191, 16.34925, 18.64665]\n",
    "errors = [0.66425, 0.4558, 0.13555, 0.12525]\n",
    "\n",
    "# Plot the barplot with the specified colors\n",
    "barplots_ANOVA(filename, xs, ys, errors, xlabel, ylabel, control_color, data_color)"
   ]
  },
  {
   "cell_type": "markdown",
   "metadata": {},
   "source": [
    "## Chlorella"
   ]
  },
  {
   "cell_type": "markdown",
   "metadata": {},
   "source": [
    "### Fixed values for Chrlorella"
   ]
  },
  {
   "cell_type": "code",
   "execution_count": null,
   "metadata": {},
   "outputs": [],
   "source": [
    "data_color = '#FFEB9C'  # light green"
   ]
  },
  {
   "cell_type": "code",
   "execution_count": null,
   "metadata": {},
   "outputs": [],
   "source": []
  },
  {
   "cell_type": "markdown",
   "metadata": {},
   "source": [
    "# Palmaria"
   ]
  },
  {
   "cell_type": "markdown",
   "metadata": {},
   "source": [
    "### Fixed values for Palmaria"
   ]
  },
  {
   "cell_type": "code",
   "execution_count": null,
   "metadata": {},
   "outputs": [],
   "source": [
    "data_color = '#FFC7CE'  # light green"
   ]
  }
 ],
 "metadata": {
  "kernelspec": {
   "display_name": "ds-latests",
   "language": "python",
   "name": "python3"
  },
  "language_info": {
   "codemirror_mode": {
    "name": "ipython",
    "version": 3
   },
   "file_extension": ".py",
   "mimetype": "text/x-python",
   "name": "python",
   "nbconvert_exporter": "python",
   "pygments_lexer": "ipython3",
   "version": "3.12.4"
  }
 },
 "nbformat": 4,
 "nbformat_minor": 2
}
